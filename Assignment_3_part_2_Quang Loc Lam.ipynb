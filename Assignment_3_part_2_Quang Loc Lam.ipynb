{
 "cells": [
  {
   "cell_type": "markdown",
   "metadata": {
    "application/vnd.databricks.v1+cell": {
     "cellMetadata": {},
     "inputWidgets": {},
     "nuid": "afd3068d-a519-4519-bfa4-38af53028c0e",
     "showTitle": false,
     "tableResultSettingsMap": {},
     "title": ""
    }
   },
   "source": [
    "### Independent group analysis"
   ]
  },
  {
   "cell_type": "markdown",
   "metadata": {
    "application/vnd.databricks.v1+cell": {
     "cellMetadata": {},
     "inputWidgets": {},
     "nuid": "97980860-05d8-47d1-af38-8663112645e9",
     "showTitle": false,
     "tableResultSettingsMap": {},
     "title": ""
    }
   },
   "source": [
    "#### Hypothesis (Quang Loc Lam): \n",
    "\n",
    "Our hypothesis is that patients who have diabetes will need more time to recover from COVID-19 than patients how only have COVID-19, because diabetes can significantly lengthen recovery time from illnesses due to its impact on blood circulation, immune function, and wound healing. It means that the procedure lengths of patients who have both diabetes and COVID-19 are longer than the procedure lengths of patients who have only COVID-19."
   ]
  },
  {
   "cell_type": "markdown",
   "metadata": {
    "application/vnd.databricks.v1+cell": {
     "cellMetadata": {},
     "inputWidgets": {},
     "nuid": "3a80ef74-0e85-424f-a3b8-16985639a853",
     "showTitle": false,
     "tableResultSettingsMap": {},
     "title": ""
    }
   },
   "source": [
    "#### Value:\n",
    "\n",
    "Our research can provide valuable insights for healthcare providers to better manage and anticipate the needs of diabetic patients with COVID-19. Moreover, it helps the hospitals and healthcare providers estimate the extended procedure time that patients with diabetes and COVID-19 need, so they can allocate the resources better."
   ]
  },
  {
   "cell_type": "markdown",
   "metadata": {
    "application/vnd.databricks.v1+cell": {
     "cellMetadata": {},
     "inputWidgets": {},
     "nuid": "0bc7b57f-fcff-44eb-8cd2-9dc5b14552cc",
     "showTitle": false,
     "tableResultSettingsMap": {},
     "title": ""
    }
   },
   "source": [
    "#### Methodology\n",
    "\n",
    "We draw a Box Plot which includes the procedure lengths of:\n",
    "- Patients who have both diabetes and COVID-19. \n",
    "- Patients who have only COVID-19.\n",
    "\n",
    "The Box Whisker plot will show us if the difference between the procedure length of patients who have both diabetes and COVID-19 and the procedure length of patients who have only COVID-19 is statistically significant."
   ]
  },
  {
   "cell_type": "code",
   "execution_count": 0,
   "metadata": {
    "application/vnd.databricks.v1+cell": {
     "cellMetadata": {
      "byteLimit": 2048000,
      "rowLimit": 10000
     },
     "inputWidgets": {},
     "nuid": "c18f2763-9d48-4e5c-a549-03331853dc5a",
     "showTitle": false,
     "tableResultSettingsMap": {},
     "title": ""
    }
   },
   "outputs": [
    {
     "name": "stdout",
     "output_type": "stream",
     "text": [
      "Out[53]: [Row(procedures=[Row(code='261352009', date='2020-03-02', description='Face mask (physical object)', reasonCode='840544004', reasonDescription='Suspected COVID-19'), Row(code='399208008', date='2020-03-02', description='Plain chest X-ray (procedure)', reasonCode='', reasonDescription=''), Row(code='371908008', date='2020-03-02', description='Oxygen administration by mask (procedure)', reasonCode='389087006', reasonDescription='Hypoxemia (disorder)'), Row(code='431182000', date='2020-03-02', description='Placing subject in prone position (procedure)', reasonCode='389087006', reasonDescription='Hypoxemia (disorder)'), Row(code='371908008', date='2020-03-03', description='Oxygen administration by mask (procedure)', reasonCode='389087006', reasonDescription='Hypoxemia (disorder)'), Row(code='431182000', date='2020-03-03', description='Placing subject in prone position (procedure)', reasonCode='389087006', reasonDescription='Hypoxemia (disorder)'), Row(code='371908008', date='2020-03-04', description='Oxygen administration by mask (procedure)', reasonCode='389087006', reasonDescription='Hypoxemia (disorder)'), Row(code='431182000', date='2020-03-04', description='Placing subject in prone position (procedure)', reasonCode='389087006', reasonDescription='Hypoxemia (disorder)'), Row(code='371908008', date='2020-03-05', description='Oxygen administration by mask (procedure)', reasonCode='389087006', reasonDescription='Hypoxemia (disorder)'), Row(code='431182000', date='2020-03-05', description='Placing subject in prone position (procedure)', reasonCode='389087006', reasonDescription='Hypoxemia (disorder)'), Row(code='371908008', date='2020-03-06', description='Oxygen administration by mask (procedure)', reasonCode='389087006', reasonDescription='Hypoxemia (disorder)'), Row(code='431182000', date='2020-03-06', description='Placing subject in prone position (procedure)', reasonCode='389087006', reasonDescription='Hypoxemia (disorder)'), Row(code='371908008', date='2020-03-07', description='Oxygen administration by mask (procedure)', reasonCode='389087006', reasonDescription='Hypoxemia (disorder)'), Row(code='431182000', date='2020-03-07', description='Placing subject in prone position (procedure)', reasonCode='389087006', reasonDescription='Hypoxemia (disorder)'), Row(code='371908008', date='2020-03-08', description='Oxygen administration by mask (procedure)', reasonCode='389087006', reasonDescription='Hypoxemia (disorder)'), Row(code='431182000', date='2020-03-08', description='Placing subject in prone position (procedure)', reasonCode='389087006', reasonDescription='Hypoxemia (disorder)')], procedure_length=16)]"
     ]
    }
   ],
   "source": [
    "from pyspark.sql.functions import size, col \n",
    "\n",
    "procedure_length = df.withColumn(\"procedure_length\", size(col(\"procedures\")))\n",
    "procedure_length.select(\"procedures\", \"procedure_length\").take(1)"
   ]
  },
  {
   "cell_type": "markdown",
   "metadata": {
    "application/vnd.databricks.v1+cell": {
     "cellMetadata": {},
     "inputWidgets": {},
     "nuid": "225f8192-aa8f-44b8-acda-c13bed90532c",
     "showTitle": false,
     "tableResultSettingsMap": {},
     "title": ""
    }
   },
   "source": [
    "Calculate the number of patients having both COVID-19 and diabetes:"
   ]
  },
  {
   "cell_type": "code",
   "execution_count": 0,
   "metadata": {
    "application/vnd.databricks.v1+cell": {
     "cellMetadata": {
      "byteLimit": 2048000,
      "rowLimit": 10000
     },
     "inputWidgets": {},
     "nuid": "c5d3091d-2edb-4894-8a82-04a04fac1f03",
     "showTitle": false,
     "tableResultSettingsMap": {},
     "title": ""
    }
   },
   "outputs": [
    {
     "name": "stdout",
     "output_type": "stream",
     "text": [
      "Number of patients with both COVID-19 and diabetes: 5\n"
     ]
    }
   ],
   "source": [
    "from pyspark.sql.functions import expr\n",
    "\n",
    "# Filter patients with both COVID-19 and Diabetes\n",
    "both = procedure_length.filter(\n",
    "    expr(\"exists(conditions, x -> x.description = 'COVID-19')\") & \n",
    "    expr(\"exists(conditions, x -> x.description LIKE '%diabetes%')\")\n",
    ")\n",
    "\n",
    "# Count the number of matching rows\n",
    "count_both = both.count()\n",
    "print(f\"Number of patients with both COVID-19 and diabetes: {count_both}\")\n"
   ]
  },
  {
   "cell_type": "markdown",
   "metadata": {
    "application/vnd.databricks.v1+cell": {
     "cellMetadata": {},
     "inputWidgets": {},
     "nuid": "9e0677c1-a3d9-400f-8088-ae5339a98edb",
     "showTitle": false,
     "tableResultSettingsMap": {},
     "title": ""
    }
   },
   "source": [
    "Calculate the number of patients who have COVID-19 but do not have diabetes:"
   ]
  },
  {
   "cell_type": "code",
   "execution_count": 0,
   "metadata": {
    "application/vnd.databricks.v1+cell": {
     "cellMetadata": {
      "byteLimit": 2048000,
      "rowLimit": 10000
     },
     "inputWidgets": {},
     "nuid": "79c2cd49-0354-4910-9f2d-c03829999266",
     "showTitle": false,
     "tableResultSettingsMap": {},
     "title": ""
    }
   },
   "outputs": [
    {
     "name": "stdout",
     "output_type": "stream",
     "text": [
      "Number of patients with only COVID-19 (no diabetes): 1435\n"
     ]
    }
   ],
   "source": [
    "from pyspark.sql.functions import expr\n",
    "\n",
    "# Filter patients with only COVID-19 (without Diabetes)\n",
    "only_covid = procedure_length.filter(\n",
    "    expr(\"exists(conditions, x -> x.description = 'COVID-19')\") & \n",
    "    ~expr(\"exists(conditions, x -> x.description LIKE 'diabetes')\")\n",
    ")\n",
    "\n",
    "# Count the number of matching rows\n",
    "count_only_covid = only_covid.count()\n",
    "print(f\"Number of patients with only COVID-19 (no diabetes): {count_only_covid}\")\n"
   ]
  },
  {
   "cell_type": "markdown",
   "metadata": {
    "application/vnd.databricks.v1+cell": {
     "cellMetadata": {},
     "inputWidgets": {},
     "nuid": "69a6d51c-ac50-44a1-a79a-2dc95b631d17",
     "showTitle": false,
     "tableResultSettingsMap": {},
     "title": ""
    }
   },
   "source": [
    "Collect the procedure lengths of patients who have both COVID-19 and diabetes:"
   ]
  },
  {
   "cell_type": "code",
   "execution_count": 0,
   "metadata": {
    "application/vnd.databricks.v1+cell": {
     "cellMetadata": {
      "byteLimit": 2048000,
      "rowLimit": 10000
     },
     "inputWidgets": {},
     "nuid": "bdf0755f-37fa-464b-a01f-ad4431926ac0",
     "showTitle": false,
     "tableResultSettingsMap": {},
     "title": ""
    }
   },
   "outputs": [
    {
     "name": "stdout",
     "output_type": "stream",
     "text": [
      "Out[74]: [1, 26, 2, 34, 17]"
     ]
    }
   ],
   "source": [
    "\n",
    "both_counts = both.select(\"procedure_length\").collect()\n",
    "both_counts_list = [row['procedure_length'] for row in both_counts]\n",
    "both_counts_list[0:20]"
   ]
  },
  {
   "cell_type": "markdown",
   "metadata": {
    "application/vnd.databricks.v1+cell": {
     "cellMetadata": {},
     "inputWidgets": {},
     "nuid": "40bd6158-e2eb-435b-b2b2-472062815d11",
     "showTitle": false,
     "tableResultSettingsMap": {},
     "title": ""
    }
   },
   "source": [
    "Collect the procedure lengths of patients who have only COVID-19:"
   ]
  },
  {
   "cell_type": "code",
   "execution_count": 0,
   "metadata": {
    "application/vnd.databricks.v1+cell": {
     "cellMetadata": {
      "byteLimit": 2048000,
      "rowLimit": 10000
     },
     "inputWidgets": {},
     "nuid": "06c3142e-bb84-498d-9cfb-808c977ff0db",
     "showTitle": false,
     "tableResultSettingsMap": {},
     "title": ""
    }
   },
   "outputs": [
    {
     "name": "stdout",
     "output_type": "stream",
     "text": [
      "Out[73]: [16, 1, 12, 56, 1, 1, 1, 1, 1, 1, 1, 42, 1, 2, 19, 2, 3, 1, 32, 1]"
     ]
    }
   ],
   "source": [
    "only_covid_counts = only_covid.select(\"procedure_length\").collect()\n",
    "only_covid_counts_list = [row['procedure_length'] for row in only_covid_counts]\n",
    "only_covid_counts_list[0:20]"
   ]
  },
  {
   "cell_type": "markdown",
   "metadata": {
    "application/vnd.databricks.v1+cell": {
     "cellMetadata": {},
     "inputWidgets": {},
     "nuid": "af335301-9204-46c8-abaa-37cc2b68a3ea",
     "showTitle": false,
     "tableResultSettingsMap": {},
     "title": ""
    }
   },
   "source": [
    "Draw a Box Plot to compare the procedure lengths of patients who have both diabetes and COVID-19 and the procedure lengths of patients who have only COVID-19."
   ]
  },
  {
   "cell_type": "code",
   "execution_count": 0,
   "metadata": {
    "application/vnd.databricks.v1+cell": {
     "cellMetadata": {
      "byteLimit": 2048000,
      "rowLimit": 10000
     },
     "inputWidgets": {},
     "nuid": "df410a0c-c6ed-457d-9e66-166c87749be9",
     "showTitle": false,
     "tableResultSettingsMap": {},
     "title": ""
    }
   },
   "outputs": [
    {
     "data": {
      "image/png": "[encoded data removed]"
     },
     "metadata": {
      "application/vnd.databricks.v1+output": {
       "addedWidgets": {},
       "arguments": {},
       "data": "data:image/png;base64,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\n",
       "datasetInfos": [],
       "metadata": {},
       "removedWidgets": [],
       "type": "image"
      }
     },
     "output_type": "display_data"
    }
   ],
   "source": [
    "# Re-import necessary libraries\n",
    "import matplotlib.pyplot as plt\n",
    "\n",
    "# Create box plots\n",
    "plt.figure(figsize=(8, 6))\n",
    "plt.boxplot([both_counts_list, only_covid_counts_list], labels=['Both COVID-19 and Diabetes', 'Only COVID-19'])\n",
    "\n",
    "# Customize the plot\n",
    "plt.title('Procedure Length Comparison')\n",
    "plt.ylabel('Procedure Length')\n",
    "plt.grid(axis='y', linestyle='--', alpha=0.7)\n",
    "plt.show()\n"
   ]
  },
  {
   "cell_type": "markdown",
   "metadata": {
    "application/vnd.databricks.v1+cell": {
     "cellMetadata": {},
     "inputWidgets": {},
     "nuid": "9cb7d11f-d72f-490d-9545-1bde4d799aad",
     "showTitle": false,
     "tableResultSettingsMap": {},
     "title": ""
    }
   },
   "source": [
    "#### Conclusion: \n",
    "- The Box Plot shows that the procedure lengths of patients who have both diabetes and COVID-19 are statistically longer than the procedure lengths of patients who have only COVID-19. \n",
    "- Our hypothesis is confirmed."
   ]
  }
 ],
 "metadata": {
  "application/vnd.databricks.v1+notebook": {
   "computePreferences": null,
   "dashboards": [],
   "environmentMetadata": null,
   "language": "python",
   "notebookMetadata": {
    "pythonIndentUnit": 4
   },
   "notebookName": "Large Language Models",
   "widgets": {}
  },
  "language_info": {
   "name": "python"
  }
 },
 "nbformat": 4,
 "nbformat_minor": 0
}
