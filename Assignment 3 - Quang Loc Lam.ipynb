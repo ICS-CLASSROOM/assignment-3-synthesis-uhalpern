{
 "cells": [
  {
   "cell_type": "markdown",
   "metadata": {
    "application/vnd.databricks.v1+cell": {
     "cellMetadata": {},
     "inputWidgets": {},
     "nuid": "afd3068d-a519-4519-bfa4-38af53028c0e",
     "showTitle": false,
     "tableResultSettingsMap": {},
     "title": ""
    }
   },
   "source": [
    "### Independent group analysis\n",
    "#### Our group include 3 students:\n",
    "- Urban Halpern\n",
    "- James Phan\n",
    "- Quang Loc Lam"
   ]
  },
  {
   "cell_type": "markdown",
   "metadata": {
    "application/vnd.databricks.v1+cell": {
     "cellMetadata": {},
     "inputWidgets": {},
     "nuid": "97980860-05d8-47d1-af38-8663112645e9",
     "showTitle": false,
     "tableResultSettingsMap": {},
     "title": ""
    }
   },
   "source": [
    "#### Hypothesis 1 (Quang Loc Lam): \n",
    "\n",
    "- H0: There is no difference between the means of procedure lengths of patients having both COVID-19 and diabetes and patients having only COVID-19.\n",
    "- H1: There is a difference between the means of procedure lengths of patients having both COVID-19 and diabetes and patients having only COVID-19.\n",
    "\n",
    "##### Motivation of our hypothesis: \n",
    "We think that patients who have diabetes will need more time to recover from COVID-19 than patients how only have COVID-19, because diabetes can lengthen recovery time from illnesses due to its impact on blood circulation, immune function, and wound healing. As a result, the procedure lengths of patients who have both diabetes and COVID-19 may be longer than the procedure lengths of patients who have only COVID-19."
   ]
  },
  {
   "cell_type": "markdown",
   "metadata": {
    "application/vnd.databricks.v1+cell": {
     "cellMetadata": {},
     "inputWidgets": {},
     "nuid": "3a80ef74-0e85-424f-a3b8-16985639a853",
     "showTitle": false,
     "tableResultSettingsMap": {},
     "title": ""
    }
   },
   "source": [
    "#### Value:\n",
    "\n",
    "Our research can provide valuable insights for healthcare providers to better manage and anticipate the needs of diabetic patients with COVID-19. Moreover, it helps the hospitals and healthcare providers estimate the extended procedure time that patients with diabetes and COVID-19 need, so they can allocate the resources better."
   ]
  },
  {
   "cell_type": "markdown",
   "metadata": {
    "application/vnd.databricks.v1+cell": {
     "cellMetadata": {},
     "inputWidgets": {},
     "nuid": "0bc7b57f-fcff-44eb-8cd2-9dc5b14552cc",
     "showTitle": false,
     "tableResultSettingsMap": {},
     "title": ""
    }
   },
   "source": [
    "#### Methodology\n",
    "\n",
    "We collect the procedure lengths of two groups of patients:\n",
    "- Patients who have both diabetes and COVID-19. \n",
    "- Patients who have only COVID-19.\n",
    "\n",
    "Then we draw the Box Plots and run the t-test to compare the means of procedure lenths of two groups."
   ]
  },
  {
   "cell_type": "markdown",
   "metadata": {
    "application/vnd.databricks.v1+cell": {
     "cellMetadata": {},
     "inputWidgets": {},
     "nuid": "382d5840-6ac5-4364-b7ae-9a930a56d53f",
     "showTitle": false,
     "tableResultSettingsMap": {},
     "title": ""
    }
   },
   "source": [
    "#### Read the Parquet file"
   ]
  },
  {
   "cell_type": "code",
   "execution_count": 0,
   "metadata": {
    "application/vnd.databricks.v1+cell": {
     "cellMetadata": {
      "byteLimit": 2048000,
      "rowLimit": 10000
     },
     "inputWidgets": {},
     "nuid": "d80da1ea-88d0-49ac-aeda-f442813ec22d",
     "showTitle": false,
     "tableResultSettingsMap": {},
     "title": ""
    }
   },
   "outputs": [
    {
     "output_type": "stream",
     "name": "stdout",
     "output_type": "stream",
     "text": [
      "+--------------------+--------------------+--------------------+--------------------+--------------------+--------------------+--------------------+--------------------+\n|        demographics|           encounter|          conditions|         medications|       immunizations|              vitals|          laboratory|          procedures|\n+--------------------+--------------------+--------------------+--------------------+--------------------+--------------------+--------------------+--------------------+\n|{{Boston, Massach...|{2020-03-18, 3278...|[{49727002, Cough...|[{854235, 0.4 ML ...|                  []|{null, {{{8462-4,...|{{94531-1, SARS-C...|[{261352009, 2020...|\n|{{Chelsea, Massac...|{2020-05-22, 2a45...|[{49727002, Cough...|                  []|[{140, 2020-05-22...|{{2020-05-22, {83...|{{94531-1, SARS-C...|[{261352009, 2020...|\n|{{Boston, Massach...|{2020-03-28, a169...|[{49727002, Cough...|[{854235, 0.4 ML ...|                  []|{null, {{{8462-4,...|{{94531-1, SARS-C...|[{261352009, 2020...|\n|{{Charlton, Massa...|{2020-05-23, 4bda...|[{195662009, Acut...|[{854235, 0.4 ML ...|                  []|{null, {{{8462-4,...|{{94531-1, SARS-C...|[{301807007, 2020...|\n|{{Hanover, Massac...|{2020-03-14, 2260...|[{49727002, Cough...|                  []|                  []|{null, {{{8462-4,...|{{94531-1, SARS-C...|[{261352009, 2020...|\n|{{Middleborough, ...|{2020-03-11, ef6a...|[{43724002, Chill...|                  []|                  []|{null, {{{8462-4,...|{{94531-1, SARS-C...|[{261352009, 2020...|\n|{{Waltham, Massac...|{2020-03-02, 3d10...|[{49727002, Cough...|                  []|                  []|{null, {{{8462-4,...|{{94531-1, SARS-C...|[{261352009, 2020...|\n|{{Foxborough, Mas...|{2020-05-10, 3bd5...|[{248595008, Sput...|                  []|                  []|{null, {{{8462-4,...|{{94531-1, SARS-C...|[{261352009, 2020...|\n|{{Brookline, Mass...|                null|                  []|                  []|                  []|{null, {null, nul...|                null|                  []|\n|{{Arlington, Mass...|{2020-03-13, 6917...|[{49727002, Cough...|                  []|                  []|{null, {{{8462-4,...|{{94531-1, SARS-C...|[{261352009, 2020...|\n|{{Oak Bluffs, Mas...|{2020-03-09, 8fd6...|                  []|[{309362, Clopido...|[{140, 2020-03-08...|{{2020-03-08, {83...|                null|                  []|\n|{{Fall River, Mas...|{2020-03-07, 2383...|[{68235000, Nasal...|                  []|                  []|{null, {{{8462-4,...|{{94531-1, SARS-C...|[{261352009, 2020...|\n|{{Lowell, Massach...|{2020-03-04, b0e0...|[{201834006, Loca...|[{849574, Naproxe...|[{140, 2020-02-06...|{{2020-02-06, {83...|{{94531-1, SARS-C...|[{261352009, 2020...|\n|{{Quincy, Massach...|{2020-04-05, aabd...|[{49727002, Cough...|[{854235, 0.4 ML ...|                  []|{null, {{{8462-4,...|{{94531-1, SARS-C...|[{261352009, 2020...|\n|{{Medfield, Massa...|{2020-03-01, 7fb5...|[{386661006, Feve...|                  []|                  []|{null, {{{8462-4,...|{{94531-1, SARS-C...|[{261352009, 2020...|\n|{{Billerica, Mass...|{2020-03-15, 6a1e...|[{49727002, Cough...|[{746030, Atenolo...|[{140, 2020-03-15...|{{2020-03-15, {83...|{{94531-1, SARS-C...|[{261352009, 2020...|\n|{{North Andover, ...|                null|                  []|                  []|                  []|{null, {null, nul...|                null|                  []|\n|{{Winchester, Mas...|{2020-05-22, f4e7...|[{49727002, Cough...|                  []|[{140, 2020-03-13...|{{2020-03-13, {83...|{{94531-1, SARS-C...|[{274804006, 2020...|\n|{{Lowell, Massach...|{2020-02-23, b0e0...|[{49727002, Cough...|[{106892, insulin...|                  []|{{2020-01-30, {83...|{{94531-1, SARS-C...|[{430193006, 2020...|\n|{{Bolton, Massach...|{2020-03-25, 53fc...|[{25064002, Heada...|[{310965, Ibuprof...|[{140, 2020-03-24...|{{2020-03-24, {83...|{{94531-1, SARS-C...|[{261352009, 2020...|\n+--------------------+--------------------+--------------------+--------------------+--------------------+--------------------+--------------------+--------------------+\nonly showing top 20 rows\n\nroot\n |-- demographics: struct (nullable = true)\n |    |-- address: struct (nullable = true)\n |    |    |-- city: string (nullable = true)\n |    |    |-- state: string (nullable = true)\n |    |-- age: long (nullable = true)\n |    |-- date_of_birth: string (nullable = true)\n |    |-- gender: string (nullable = true)\n |    |-- insurance: string (nullable = true)\n |    |-- name: string (nullable = true)\n |-- encounter: struct (nullable = true)\n |    |-- date: string (nullable = true)\n |    |-- facility_id: string (nullable = true)\n |    |-- provider_id: string (nullable = true)\n |    |-- time: string (nullable = true)\n |-- conditions: array (nullable = true)\n |    |-- element: struct (containsNull = true)\n |    |    |-- code: string (nullable = true)\n |    |    |-- description: string (nullable = true)\n |-- medications: array (nullable = true)\n |    |-- element: struct (containsNull = true)\n |    |    |-- code: string (nullable = true)\n |    |    |-- description: string (nullable = true)\n |-- immunizations: array (nullable = true)\n |    |-- element: struct (containsNull = true)\n |    |    |-- code: string (nullable = true)\n |    |    |-- date: string (nullable = true)\n |    |    |-- description: string (nullable = true)\n |-- vitals: struct (nullable = true)\n |    |-- baseline: struct (nullable = true)\n |    |    |-- date: string (nullable = true)\n |    |    |-- height: struct (nullable = true)\n |    |    |    |-- code: string (nullable = true)\n |    |    |    |-- unit: string (nullable = true)\n |    |    |    |-- value: double (nullable = true)\n |    |-- current: struct (nullable = true)\n |    |    |-- blood_pressure: struct (nullable = true)\n |    |    |    |-- diastolic: struct (nullable = true)\n |    |    |    |    |-- code: string (nullable = true)\n |    |    |    |    |-- unit: string (nullable = true)\n |    |    |    |    |-- value: double (nullable = true)\n |    |    |    |-- systolic: struct (nullable = true)\n |    |    |    |    |-- code: string (nullable = true)\n |    |    |    |    |-- unit: string (nullable = true)\n |    |    |    |    |-- value: double (nullable = true)\n |    |    |-- heart_rate: struct (nullable = true)\n |    |    |    |-- code: string (nullable = true)\n |    |    |    |-- unit: string (nullable = true)\n |    |    |    |-- value: double (nullable = true)\n |    |    |-- oxygen_saturation: struct (nullable = true)\n |    |    |    |-- code: string (nullable = true)\n |    |    |    |-- unit: string (nullable = true)\n |    |    |    |-- value: double (nullable = true)\n |    |    |-- respiratory_rate: struct (nullable = true)\n |    |    |    |-- code: string (nullable = true)\n |    |    |    |-- unit: string (nullable = true)\n |    |    |    |-- value: double (nullable = true)\n |    |    |-- temperature: struct (nullable = true)\n |    |    |    |-- code: string (nullable = true)\n |    |    |    |-- unit: string (nullable = true)\n |    |    |    |-- value: double (nullable = true)\n |    |    |-- weight: struct (nullable = true)\n |    |    |    |-- code: string (nullable = true)\n |    |    |    |-- unit: string (nullable = true)\n |    |    |    |-- value: double (nullable = true)\n |-- laboratory: struct (nullable = true)\n |    |-- covid19: struct (nullable = true)\n |    |    |-- code: string (nullable = true)\n |    |    |-- description: string (nullable = true)\n |    |    |-- result: string (nullable = true)\n |    |-- respiratory_panel: struct (nullable = true)\n |    |    |-- influenza_a: struct (nullable = true)\n |    |    |    |-- code: string (nullable = true)\n |    |    |    |-- result: string (nullable = true)\n |    |    |-- influenza_b: struct (nullable = true)\n |    |    |    |-- code: string (nullable = true)\n |    |    |    |-- result: string (nullable = true)\n |-- procedures: array (nullable = true)\n |    |-- element: struct (containsNull = true)\n |    |    |-- code: string (nullable = true)\n |    |    |-- date: string (nullable = true)\n |    |    |-- description: string (nullable = true)\n |    |    |-- reasonCode: string (nullable = true)\n |    |    |-- reasonDescription: string (nullable = true)\n\n"
     ]
    }
   ],
   "source": [
    "# Step 1: Set the path to the Parquet file\n",
    "parquet_file_path = \"dbfs:/FileStore/data/medical_records.parquet\"\n",
    "\n",
    "# Step 2: Read the Parquet file into a DataFrame\n",
    "df = spark.read.parquet(parquet_file_path)\n",
    "\n",
    "# Step 3: Show the DataFrame contents\n",
    "df.show()\n",
    "\n",
    "# Step 4: Display the DataFrame schema\n",
    "df.printSchema()"
   ]
  },
  {
   "cell_type": "code",
   "execution_count": 0,
   "metadata": {
    "application/vnd.databricks.v1+cell": {
     "cellMetadata": {
      "byteLimit": 2048000,
      "rowLimit": 10000
     },
     "inputWidgets": {},
     "nuid": "c18f2763-9d48-4e5c-a549-03331853dc5a",
     "showTitle": false,
     "tableResultSettingsMap": {},
     "title": ""
    }
   },
   "outputs": [
    {
     "output_type": "stream",
     "name": "stdout",
     "output_type": "stream",
     "text": [
      "Out[36]: [Row(procedures=[Row(code='261352009', date='2020-03-02', description='Face mask (physical object)', reasonCode='840544004', reasonDescription='Suspected COVID-19'), Row(code='399208008', date='2020-03-02', description='Plain chest X-ray (procedure)', reasonCode='', reasonDescription=''), Row(code='371908008', date='2020-03-02', description='Oxygen administration by mask (procedure)', reasonCode='389087006', reasonDescription='Hypoxemia (disorder)'), Row(code='431182000', date='2020-03-02', description='Placing subject in prone position (procedure)', reasonCode='389087006', reasonDescription='Hypoxemia (disorder)'), Row(code='371908008', date='2020-03-03', description='Oxygen administration by mask (procedure)', reasonCode='389087006', reasonDescription='Hypoxemia (disorder)'), Row(code='431182000', date='2020-03-03', description='Placing subject in prone position (procedure)', reasonCode='389087006', reasonDescription='Hypoxemia (disorder)'), Row(code='371908008', date='2020-03-04', description='Oxygen administration by mask (procedure)', reasonCode='389087006', reasonDescription='Hypoxemia (disorder)'), Row(code='431182000', date='2020-03-04', description='Placing subject in prone position (procedure)', reasonCode='389087006', reasonDescription='Hypoxemia (disorder)'), Row(code='371908008', date='2020-03-05', description='Oxygen administration by mask (procedure)', reasonCode='389087006', reasonDescription='Hypoxemia (disorder)'), Row(code='431182000', date='2020-03-05', description='Placing subject in prone position (procedure)', reasonCode='389087006', reasonDescription='Hypoxemia (disorder)'), Row(code='371908008', date='2020-03-06', description='Oxygen administration by mask (procedure)', reasonCode='389087006', reasonDescription='Hypoxemia (disorder)'), Row(code='431182000', date='2020-03-06', description='Placing subject in prone position (procedure)', reasonCode='389087006', reasonDescription='Hypoxemia (disorder)'), Row(code='371908008', date='2020-03-07', description='Oxygen administration by mask (procedure)', reasonCode='389087006', reasonDescription='Hypoxemia (disorder)'), Row(code='431182000', date='2020-03-07', description='Placing subject in prone position (procedure)', reasonCode='389087006', reasonDescription='Hypoxemia (disorder)'), Row(code='371908008', date='2020-03-08', description='Oxygen administration by mask (procedure)', reasonCode='389087006', reasonDescription='Hypoxemia (disorder)'), Row(code='431182000', date='2020-03-08', description='Placing subject in prone position (procedure)', reasonCode='389087006', reasonDescription='Hypoxemia (disorder)')], procedure_length=16)]"
     ]
    }
   ],
   "source": [
    "from pyspark.sql.functions import size, col \n",
    "\n",
    "procedure_length = df.withColumn(\"procedure_length\", size(col(\"procedures\")))\n",
    "procedure_length.select(\"procedures\", \"procedure_length\").take(1)"
   ]
  },
  {
   "cell_type": "markdown",
   "metadata": {
    "application/vnd.databricks.v1+cell": {
     "cellMetadata": {},
     "inputWidgets": {},
     "nuid": "225f8192-aa8f-44b8-acda-c13bed90532c",
     "showTitle": false,
     "tableResultSettingsMap": {},
     "title": ""
    }
   },
   "source": [
    "##### Calculate the number of patients having both COVID-19 and diabetes:"
   ]
  },
  {
   "cell_type": "code",
   "execution_count": 0,
   "metadata": {
    "application/vnd.databricks.v1+cell": {
     "cellMetadata": {
      "byteLimit": 2048000,
      "rowLimit": 10000
     },
     "inputWidgets": {},
     "nuid": "c5d3091d-2edb-4894-8a82-04a04fac1f03",
     "showTitle": false,
     "tableResultSettingsMap": {},
     "title": ""
    }
   },
   "outputs": [
    {
     "output_type": "stream",
     "name": "stdout",
     "output_type": "stream",
     "text": [
      "Number of patients with both COVID-19 and diabetes: 5\n"
     ]
    }
   ],
   "source": [
    "from pyspark.sql.functions import expr\n",
    "\n",
    "# Filter patients with both COVID-19 and Diabetes\n",
    "both = procedure_length.filter(\n",
    "    expr(\"exists(conditions, x -> x.description = 'COVID-19')\") & \n",
    "    expr(\"exists(conditions, x -> LOWER(x.description) LIKE '%diabetes%')\")\n",
    ")\n",
    "\n",
    "# Count the number of matching rows\n",
    "count_both = both.count()\n",
    "print(f\"Number of patients with both COVID-19 and diabetes: {count_both}\")\n"
   ]
  },
  {
   "cell_type": "markdown",
   "metadata": {
    "application/vnd.databricks.v1+cell": {
     "cellMetadata": {},
     "inputWidgets": {},
     "nuid": "9e0677c1-a3d9-400f-8088-ae5339a98edb",
     "showTitle": false,
     "tableResultSettingsMap": {},
     "title": ""
    }
   },
   "source": [
    "##### Calculate the number of patients who have COVID-19 but do not have diabetes:"
   ]
  },
  {
   "cell_type": "code",
   "execution_count": 0,
   "metadata": {
    "application/vnd.databricks.v1+cell": {
     "cellMetadata": {
      "byteLimit": 2048000,
      "rowLimit": 10000
     },
     "inputWidgets": {},
     "nuid": "79c2cd49-0354-4910-9f2d-c03829999266",
     "showTitle": false,
     "tableResultSettingsMap": {},
     "title": ""
    }
   },
   "outputs": [
    {
     "output_type": "stream",
     "name": "stdout",
     "output_type": "stream",
     "text": [
      "Number of patients with only COVID-19 (no diabetes): 1435\n"
     ]
    }
   ],
   "source": [
    "from pyspark.sql.functions import expr\n",
    "\n",
    "# Filter patients with only COVID-19 (without diabetes)\n",
    "only_covid = procedure_length.filter(\n",
    "    expr(\"exists(conditions, x -> x.description = 'COVID-19')\") & \n",
    "    ~expr(\"exists(conditions, x -> LOWER(x.description) LIKE 'diabetes')\")\n",
    ")\n",
    "\n",
    "# Count the number of matching rows\n",
    "count_only_covid = only_covid.count()\n",
    "print(f\"Number of patients with only COVID-19 (no diabetes): {count_only_covid}\")\n"
   ]
  },
  {
   "cell_type": "markdown",
   "metadata": {
    "application/vnd.databricks.v1+cell": {
     "cellMetadata": {},
     "inputWidgets": {},
     "nuid": "69a6d51c-ac50-44a1-a79a-2dc95b631d17",
     "showTitle": false,
     "tableResultSettingsMap": {},
     "title": ""
    }
   },
   "source": [
    "##### Collect the procedure lengths of patients who have both COVID-19 and diabetes:"
   ]
  },
  {
   "cell_type": "code",
   "execution_count": 0,
   "metadata": {
    "application/vnd.databricks.v1+cell": {
     "cellMetadata": {
      "byteLimit": 2048000,
      "rowLimit": 10000
     },
     "inputWidgets": {},
     "nuid": "bdf0755f-37fa-464b-a01f-ad4431926ac0",
     "showTitle": false,
     "tableResultSettingsMap": {},
     "title": ""
    }
   },
   "outputs": [
    {
     "output_type": "stream",
     "name": "stdout",
     "output_type": "stream",
     "text": [
      "Out[39]: [1, 26, 2, 34, 17]"
     ]
    }
   ],
   "source": [
    "\n",
    "both_counts = both.select(\"procedure_length\").collect()\n",
    "both_counts_list = [row['procedure_length'] for row in both_counts]\n",
    "both_counts_list[0:20]"
   ]
  },
  {
   "cell_type": "markdown",
   "metadata": {
    "application/vnd.databricks.v1+cell": {
     "cellMetadata": {},
     "inputWidgets": {},
     "nuid": "40bd6158-e2eb-435b-b2b2-472062815d11",
     "showTitle": false,
     "tableResultSettingsMap": {},
     "title": ""
    }
   },
   "source": [
    "##### Collect the procedure lengths of patients who have only COVID-19:"
   ]
  },
  {
   "cell_type": "code",
   "execution_count": 0,
   "metadata": {
    "application/vnd.databricks.v1+cell": {
     "cellMetadata": {
      "byteLimit": 2048000,
      "rowLimit": 10000
     },
     "inputWidgets": {},
     "nuid": "06c3142e-bb84-498d-9cfb-808c977ff0db",
     "showTitle": false,
     "tableResultSettingsMap": {},
     "title": ""
    }
   },
   "outputs": [
    {
     "output_type": "stream",
     "name": "stdout",
     "output_type": "stream",
     "text": [
      "Out[40]: [16, 1, 12, 56, 1, 1, 1, 1, 1, 1, 1, 42, 1, 2, 19, 2, 3, 1, 32, 1]"
     ]
    }
   ],
   "source": [
    "only_covid_counts = only_covid.select(\"procedure_length\").collect()\n",
    "only_covid_counts_list = [row['procedure_length'] for row in only_covid_counts]\n",
    "only_covid_counts_list[0:20]"
   ]
  },
  {
   "cell_type": "markdown",
   "metadata": {
    "application/vnd.databricks.v1+cell": {
     "cellMetadata": {},
     "inputWidgets": {},
     "nuid": "af335301-9204-46c8-abaa-37cc2b68a3ea",
     "showTitle": false,
     "tableResultSettingsMap": {},
     "title": ""
    }
   },
   "source": [
    "##### Draw Box Plots to compare the procedure lengths of patients who have both diabetes and COVID-19 and the procedure lengths of patients who have only COVID-19."
   ]
  },
  {
   "cell_type": "code",
   "execution_count": 0,
   "metadata": {
    "application/vnd.databricks.v1+cell": {
     "cellMetadata": {
      "byteLimit": 2048000,
      "rowLimit": 10000
     },
     "inputWidgets": {},
     "nuid": "df410a0c-c6ed-457d-9e66-166c87749be9",
     "showTitle": false,
     "tableResultSettingsMap": {},
     "title": ""
    }
   },
   "outputs": [
    {
     "output_type": "display_data",
     "data": {
      "image/png": "[encoded data removed]"
     },
     "metadata": {
      "application/vnd.databricks.v1+output": {
       "addedWidgets": {},
       "arguments": {},
       "data": "data:image/png;base64,iVBORw0KGgoAAAANSUhEUgAAAe4AAAF1CAYAAAAutgnWAAAAOXRFWHRTb2Z0d2FyZQBNYXRwbG90bGliIHZlcnNpb24zLjUuMSwgaHR0cHM6Ly9tYXRwbG90bGliLm9yZy/YYfK9AAAACXBIWXMAAAsTAAALEwEAmpwYAAA8WUlEQVR4nO3de3xcV3nv/88jRbasyFZsRZZj+abIsi6e3EUgqYGIhAIlwaFcQkppqPUjpVCXS08xraAkpG5xewrhpBdOi9IESgUpIcRNIVyCDIhyUuwQYlmSLSuK7ci2rMiOJMeSPbGe3x97SxkLXcb2jEcz/r5fr3lp9mX2fmaWZj+z1tp7bXN3REREJD1kpToAERERiZ8St4iISBpR4hYREUkjStwiIiJpRIlbREQkjShxi4iIpBElbpEEMbPnzOymVMdxrpjZCjNzM7sg1bEkm5ktM7OjZpad6lhElLglLYVJcig8mPaY2QNmlp/quM6VVPxISMQ+zexaM/uOmb1oZofN7H/M7PcTFWOyuPted89395OpjkVEiVvS2S3ung9cDdQAnxq/QjrUBtMhxkQws+uAHwE/BlYChcAfAm9JZVzTOV/KR9KHErekPXfvBr4LRADC5tsPm1kH0BHO+4CZ7Q5reZvNbPHo681stZn9IFzWY2Z/Hs7PMrNPmlmnmfWZ2UNmtiDmde8zsz3hsvrYmMIWgL+Mmb7BzJ6PmX7OzDaY2TPAS2Z2gZm9xsz+O6yN/srMbjjdz2KqmGOatu8ws71m9kJs3GY2x8weNLMjZtZmZp8YjdnMvgosA/4zbOX4RMxu3zvR9ibwt8CD7r7J3V/wwDZ3f3dMDFOVk5vZh8ysw8wGzeweMysLP7OB8L3Oiv28zezPw7ieM7P3xmzrrWb2y/B1+8zsrphlo59TnZntBX40vlvAzN5vZs+GcXSNbjv8/D8V/l8cMrOvmFlBPJ+/SNzcXQ890u4BPAfcFD5fCuwA7gmnHfgBsACYA7wBeIGgZj4buA/4SbjuXOAA8CdAbjj96nDZR4D/BywJX/d/gcZwWTVwFHhduOzzwMsxMT0A/GVMvDcAz4+L/+kw9jlACdAH/BbBD+o3htNF073/cfOninlF+Nn8S7jPK4DjQFW4/HMEteH54eufmSDmm2Kmp9zeuLjygJNA7RRlOmk5xZTro8A8YHW4ryeAS4ECoBW4I+bzfjksl9nA64GXgIqY5ZeFn/XlQA9w67j39RXgwvC9jc67IJw3ELOtS4DV4fN1wO4wpnzgW8BXT/fz0kOPqR4pD0APPc7kESaRo8CLwB7gH4E54TIH3hCzbgPwNzHT+UA0PJDeDvxykn20ATfGTF8Svu4C4C+Ar8csuxA4wekl7nUx0xtGD/Ax8743mogmef8TJe6pYh5NHEtilv8P8J7w+bPAm2KW/X8TxDxR4p5we+PiKgnXrZyiTCctp5hy/Y2Y5duADTHTfwfcG/N5vwxcGLP8IeDTk+z7XuAL497XpRO819HE/SLwjtH/uZj1ngA+FDNdEe/nr4ce8T7UVC7p7FZ3v8jdl7v7h9x9KGbZvpjniwmSOwDufpSgNltCUOPtnGT7y4FHwqbrFwmS4kmgONzm2D7c/aVwm6cjNsblwLtG9xXubw1B4j0dU8U86mDM82MECRLGvadxz6cy2fZiHQFGmPr9TFVOo3ping9NMB277yNhuYzaE+4DM3u1mTWZWa+Z9QMfBC4eF8+E7z/c5m3haw6Y2X+ZWeVE7yF8fgHxff4icVHilkwVe9u7/QQJDQAzu5DgxKhugoPzpZNsYx/wlvDHwegj14M+9QMESX90m3nhNke9RNA8PGrRNDHuI6hxx+7rQnf/3LTvNP6Yp3OAoIl81NJxy8/4VoLufgz4OUEtdTJTldOZmB9uY9SycB8A/w5sBpa6ewHwJcDGhz3Zht39e+7+RoIfIu0Ezd+/9h7Cfb7MqT8wRM6KErecDxqB3zezK81sNvBXwJPu/hzwGHCJmX3UzGab2Vwze3X4ui8BG81sOYCZFZnZ2nDZN4GbzWxNeELUZzn1+/Q08FtmtsDMFgEfnSbGfwNuMbM3mVm2meWGJ1gtmeI1OeF6o48Lpol5Og8Bf2Zm882sBPijcct7mPxHTjw+AbzfzP7UzArD+K4ws6+Hy6cqpzN1t5nNMrPXAjcD/xHOnwscdvdhM7sW+J14N2hmxWa2NvxRcJygy2Yk5j18zMxKLbg88a+Ab7j7y2fxHkROocQtGc/dfwh8GniYoFZZBrwnXDZIcCLYLQRNmB1AbfjSLxLUyr5vZoMEJ329OnzdDuDDBDW3AwRNwWNnjQNfBX5F0C/8feAb08S4D1gL/DnQS1Bz/lOm/o5+h6B5ePRx11Qxx+Gz4XvoAn5I8OPkeMzyvwY+FTbD/684tznG3f+b4AS0NwDPmtlh4J/D9zFlOZ2hgwTlsh/4GvBBd28Pl30I+Gz4Gf0FwY+WeGUBHw+3e5jgxLc/DJfdT1D2PyH4HIeB9WfxHkR+jbmfceuXiGQwM/tDghOnXp/qWE6XBZfS/Zu7T9ViIZKWVOMWEQDM7BIz+43wWuQKgkvkHkl1XCJyKo0IJCKjZhFc911KcLnT1wkusxORGURN5SIiImlETeUiIiJpJKmJ28w+ZmY7zKzFzBrDS1ZKzexJC8Yj/sbo2MIiIiIyvaQ1lYfXgTYD1e4+ZGYPEVz28VvAt9z962b2JeBX7v5PU23r4osv9hUrViQlThERkZlm27ZtL7h70UTLkn1y2gXAHDOLEowidYDgGs7RwQ4eJLj2dMrEvWLFCrZu3ZrEMEVERGYOM9sz2bKkNZWHQyz+b2AvQcLuJ7gpwIsxowg9z6njEIuIiMgUklbjNrP5BCNBjV5a8h/Am0/j9XcCdwIsWbKE7du3A7Bo0SLmzJlDV1cXAPPmzWPZsmW0tLQAkJ2dTXV1NZ2dnRw7dgyAlStX0t/fT29vLwCLFy8mJyeHPXuCHzQFBQWUlJTQ2toKQE5ODpWVlXR0dDA8PAzAqlWr6Ovro68vuI9ESUkJWVlZ7NsX3Idg/vz5FBcX094eDMw0a9YsKioq2LlzJydOnACgsrKSnp4ejhw5AsDSpUsZGRmhuzsYirmwsJDCwkJ27doFQG5uLuXl5bS3txONRgGorq6mu7ub/v5+AJYvX040GmX//mAI5qKiIgoKCti9ezcAeXl5lJWV0draysmTJwGIRCLs3buXgYEBAEpLSxkaGuLgweDeBwsXLmTu3Ll0dgb33sjPz6e0tJSWlhbcHTMjEonQ1dXF0aNHASgrK2NwcJBDhw6pnFROKieVk8rpLMtpKsns434X8GZ3rwunfw+4DngXsMjdXzaz64C73P1NU22rpqbG1VQuIiLnCzPb5u41Ey1L5lnle4HXmFmemRlwI8GN7puAd4br3AE8msQYREREMkoy+7ifJLhJwVPA9nBf/wxsAD5uZrsJbtnXkKwYREREMk1Szyp3988Anxk3+1ng2mTuV0REJFNp5DQREZE0osQtIiKSRpS4RURE0ogSt4hIhmlsbCQSiZCdnU0kEqGxsTHVIUkC6X7cIiIZpLGxkfr6ehoaGlizZg3Nzc3U1dUBcPvtt6c4OkmEtLgftwZgERGJTyQS4b777qO2tnZsXlNTE+vXrx8bwUtmvqkGYFHiFhHJINnZ2QwPD58ybGY0GiU3N3ds+E+Z+VI1cpqIiJxjVVVVNDc3nzKvubmZqqqqFEUkiabELSKSQerr66mrq6OpqYloNEpTUxN1dXXU19enOjRJEJ2cJiKSQUZPQFu/fj1tbW1UVVWxceNGnZiWQdTHLSIiMsOoj1tERCRDKHGLiIikESVuERGRNKLELSIikkaUuEVERNKIEreIiEgaUeIWERFJI0rcIiIiaUSJW0REJI0ocYuIiKQRJW4REZE0osQtIiKSRpS4RURE0ogSt4iISBpR4hYREUkjStwiIiJpRIlbREQkjShxi4iIpBElbhERkTSStMRtZhVm9nTMY8DMPmpmC8zsB2bWEf6dn6wYREREMk3SEre773T3K939SuAa4BjwCPBJ4Al3LweeCKdFRCRBGhsbiUQiZGdnE4lEaGxsTHVIkkAXnKP93Ah0uvseM1sL3BDOfxDYAmw4R3GIiGS0xsZG6uvraWhoYM2aNTQ3N1NXVwfA7bffnuLoJBHOVR/3e4DRn3zF7n4gfH4QKD5HMYiIZLyNGzfS0NBAbW0tOTk51NbW0tDQwMaNG1MdmiRI0mvcZjYLeBvwZ+OXububmU/yujuBOwGWLFnC9u3bAVi0aBFz5syhq6sLgHnz5rFs2TJaWloAyM7Oprq6ms7OTo4dOwbAypUr6e/vp7e3F4DFixeTk5PDnj17ACgoKKCkpITW1lYAcnJyqKyspKOjg+HhYQBWrVpFX18ffX19AJSUlJCVlcW+ffsAmD9/PsXFxbS3twMwa9YsKioq2LlzJydOnACgsrKSnp4ejhw5AsDSpUsZGRmhu7sbgMLCQgoLC9m1axcAubm5lJeX097eTjQaBaC6upru7m76+/sBWL58OdFolP379wNQVFREQUEBu3fvBiAvL4+ysjJaW1s5efIkAJFIhL179zIwMABAaWkpQ0NDHDx4EICFCxcyd+5cOjs7AcjPz6e0tJSWlhbcHTMjEonQ1dXF0aNHASgrK2NwcJBDhw6pnFROKqcUllNbWxsFBQUMDQ2NlVNBQQFtbW0MDAyonGZIOU33fZqKuU+YNxMmbBr/sLv/Zji9E7jB3Q+Y2SXAFnevmGobNTU1vnXr1qTGKSKSCSKRCPfddx+1tbVj85qamli/fv1YApGZz8y2uXvNRMvORVP57bzSTA6wGbgjfH4H8Og5iEFE5LxQX19PXV0dTU1NRKNRmpqaqKuro76+PtWhSYIktanczC4E3gj8QczszwEPmVkdsAd4dzJjEBE5n4yegLZ+/Xra2tqoqqpi48aNOjEtgyS9qTwR1FQuIiLnk1Q3lYuIiEiCKHGLiIikESVuERGRNKLELSIikkaUuEVERNKIEreIiEgaUeIWERFJI0rcIiIiaUSJW0REJI0ocYuIiKQRJW4REZE0osQtIiKSRpS4RURE0ogSt4iISBpR4hYREUkjStwiIiJpRIlbREQkjShxi4iIpBElbhERkTSixC0iIpJGlLhFRETSiBK3iIhIGlHiFhERSSNK3CIiImlEiVtERCSNKHGLiIikESVuERGRNKLELSKSYRobG4lEImRnZxOJRGhsbEx1SJJAF6Q6ABERSZzGxkbq6+tpaGhgzZo1NDc3U1dXB8Dtt9+e4ugkEczdUx3DtGpqanzr1q2pDkNEZMaLRCLcd9991NbWjs1rampi/fr1tLS0pDAyOR1mts3dayZclszEbWYXAV8GIoAD64CdwDeAFcBzwLvd/chU21HiFhGJT3Z2NsPDw+Tk5IzNi0aj5ObmcvLkyRRGJqdjqsSd7D7uLwKPu3slcAXQBnwSeMLdy4EnwmkREUmAqqoqmpubT5nX3NxMVVVViiKSREta4jazAuB1QAOAu59w9xeBtcCD4WoPArcmKwYRkfNNfX09dXV1NDU1EY1GaWpqoq6ujvr6+lSHJgmSzJPTSoFe4F/N7ApgG/ARoNjdD4TrHASKkxiDiMh5ZfQEtPXr19PW1kZVVRUbN27UiWkZJJmJ+wLgamC9uz9pZl9kXLO4u7uZTdjJbmZ3AncCLFmyhO3btwOwaNEi5syZQ1dXFwDz5s1j2bJlYyddZGdnU11dTWdnJ8eOHQNg5cqV9Pf309vbC8DixYvJyclhz549ABQUFFBSUkJraysAOTk5VFZW0tHRwfDwMACrVq2ir6+Pvr4+AEpKSsjKymLfvn0AzJ8/n+LiYtrb2wGYNWsWFRUV7Ny5kxMnTgBQWVlJT08PR44EXfpLly5lZGSE7u5uAAoLCyksLGTXrl0A5ObmUl5eTnt7O9FoFIDq6mq6u7vp7+8HYPny5USjUfbv3w9AUVERBQUF7N69G4C8vDzKyspobW0d69+KRCLs3buXgYEBAEpLSxkaGuLgwYMALFy4kLlz59LZ2QlAfn4+paWltLS04O6YGZFIhK6uLo4ePQpAWVkZg4ODHDp0SOWkclI5pbicIpEIv/jFL04pp76+PpXTDCsnmPz7NJWknZxmZouA/+fuK8Lp1xIk7pXADe5+wMwuAba4e8VU29LJaSIicj5Jyclp7n4Q2Gdmo0n5RqAV2AzcEc67A3g0WTGIiIhkmmQPwLIe+JqZzQKeBX6f4MfCQ2ZWB+wB3p3kGERERDJGUhO3uz8NTFTVvzGZ+xUREclUGqtcREQkjShxi4iIpBElbhERkTSixC0ikmF0W8/Mptt6iohkEN3WM/Pptp4iIhlEt/XMDCm7rWeiKHGLiMRHt/XMDKm8raeIiJxDVVVV3H333af0cd999926rWcGUeIWEckgtbW1bNq0iXXr1jE4OMi6devYtGnTKU3nkt6UuEVEMkhTUxMbNmzg/vvvZ+7cudx///1s2LCBpqamVIcmCaI+bhGRDKI+7sygPm4RkfNEVVUVzc3Np8xrbm5WH3cGUeIWEckg9fX11NXV0dTURDQapampibq6Ourr61MdmiSIBmAREckgo4OsrF+/nra2Nqqqqti4caMGX8kg6uMWERGZYdTHLSIikiGUuEVERNKIEreIiEgaUeIWERFJI0rcIiIiaUSJW0REJI0ocYuIiKQRJW4REZE0osQtIiKSRpS4RURE0ogSt4iISBpR4hYREUkjStwiIiJpRIlbREQkjShxi4iIpJELkrlxM3sOGAROAi+7e42ZLQC+AawAngPe7e5HkhmHiIhIpjgXNe5ad78y5obgnwSecPdy4IlwWkREEqSxsZFIJEJ2djaRSITGxsZUhyQJlNQa9yTWAjeEzx8EtgAbUhCHiEjGaWxspL6+noaGBtasWUNzczN1dXUA3H777SmOThIh2TVuB75vZtvM7M5wXrG7HwifHwSKkxyDiMh5Y+PGjTQ0NFBbW0tOTg61tbU0NDSwcePGVIcmCZLsGvcad+82s4XAD8ysPXahu7uZ+UQvDBP9nQBLlixh+/btACxatIg5c+bQ1dUFwLx581i2bBktLS0AZGdnU11dTWdnJ8eOHQNg5cqV9Pf309vbC8DixYvJyclhz549ABQUFFBSUkJraysAOTk5VFZW0tHRwfDwMACrVq2ir6+Pvr4+AEpKSsjKymLfvn0AzJ8/n+LiYtrbg7c4a9YsKioq2LlzJydOnACgsrKSnp4ejhwJuvSXLl3KyMgI3d3dABQWFlJYWMiuXbsAyM3Npby8nPb2dqLRKADV1dV0d3fT398PwPLly4lGo+zfvx+AoqIiCgoK2L17NwB5eXmUlZXR2trKyZMnAYhEIuzdu5eBgQEASktLGRoa4uDBgwAsXLiQuXPn0tnZCUB+fj6lpaW0tLTg7pgZkUiErq4ujh49CkBZWRmDg4McOnRI5aRyUjmlsJza2tooKChgaGhorJwKCgpoa2tjYGBA5TRDymm679NUzH3CvPnKCma/AdwFLCdI9EaQcy+d8oW/vp27gKPAB4Ab3P2AmV0CbHH3iqleW1NT41u3bj2d3YmInJcikQj33XcftbW1Y/OamppYv379WAKRmc/MtsWcG3aKeJrKG4DPA2uAVwE14d/pdnqhmc0dfQ78JtACbAbuCFe7A3g0jhhERCQO9fX11NXV0dTURDQapampibq6Ourr61MdmiRIPE3l/e7+3TPYdjHwiJmN7uff3f1xM/sF8JCZ1QF7gHefwbZFRGQCoyegrV+/nra2Nqqqqti4caNOTMsgkzaVm9nV4dN3A9nAt4Djo8vd/amkRxdSU7mIiJxPpmoqn6rG/XfjpmM34MAbzjYwEREROT2TJm53rwUws0vd/dnYZWZ2WiemiYiISGLEc3LaNyeY9x+JDkRERESmN2mN28wqgdVAgZn9dsyieUBusgMTERGRXzdVH3cFcDNwEXBLzPxBgmuxRURE5Bybqo/7UeBRM7vO3X9+DmMSERGRScRzHffvmNn4CwD7ga1hchcREZFzJJ6T02YDVwId4eNyYAlQZ2b3Ji0yERE5I7qtZ2aLp8Z9OfAb7n4SwMz+CfgpwRCo25MYm4iInCbd1jPzxVPjng/kx0xfCCwIE/nxiV8iIiKpoNt6Zr54atx/AzxtZlsI7gz2OuCvwhuH/DCJsYmIyGlqa2tjzZo1p8xbs2YNbW1tKYpIEm3aGre7NwDXA98GHiG4x/aX3f0ld//TJMcnIiKnoaqqiubm5lPmNTc3U1VVlaKIJNHiaSofXa8XOAKsNLPXJS8kERE5U7qtZ+abtqnczDYBtwE7gJFwtgM/SWJcIiJyBnRbz8w36W09x1Yw2wlc7u4pOxFNt/UUEZHzyVS39YynqfxZICexIYmIiMiZiOes8mMEZ5U/QczlX+7+x0mLSkRERCYUT+LeHD5EREQkxaZN3O7+oJnNAZa5+85zEJOIiIhMYto+bjO7BXgaeDycvtLMVAMXEZmhNFZ5Zounqfwu4FpgC4C7P21mlyYxJhEROUMaqzzzxXNWedTd+8fNG5lwTRERSSmNVZ754qlx7zCz3wGyzawc+GPgv5MbloiInAmNVZ754qlxrwdWE1wK9u9AP/CRZAYlIiJnpqqqiuuvv56srCzMjKysLK6//nqNVZ5B4rnJyDF3r3f3V4WPTwFfOQexiYjIacrKymLr1q3ccsst9Pb2csstt7B161aysuK9NYXMdGdaktclNAoREUmIlpYWbrzxRjo7OykuLqazs5Mbb7yRlpaWVIcmCRJPH7eIiKQJd+fhhx+moKBgbF5/fz8XXXRR6oKShJo0cZvZ1ZMtQmOXi4jMSGbGO9/5Tg4cODB2d7BLLrkEM0t1aJIgU9W4/26KZe2JDkRERM5eJBLhhz/8IW9729vYsmULdXV1bN68mcsuuyzVoUmCTJq43b32XAYiIiJnb2RkhJqaGv7zP/+ToqIizIyamhqGhoZSHZokSNL7uM0sG9gKdLv7zWZWCnwdKAS2Ae9z9xPJjkNE5HzQ1tbG8PAwOTmv9GhGo1Fyc3NTGJUk0rm4PuAjQOyV/5uAL7j7SuAIUHcOYhAROS9UVVVRUVGBmY09KioqdB13Bklq4jazJcBbgS+H0wa8AfhmuMqDwK3JjEFE5HwyMDBAV1cX119/Pfv37+f666+nq6uLgYGBVIcmCRLP3cHMzH7XzP4inF5mZtfGuf17gU/wytjmhcCL7v5yOP08UHJ6IYuIyGT27dvH1VdfTX9/P0uWLKG/v5+rr76affv2pTo0SZB4+rj/kSDxvgH4LDAIPAy8aqoXmdnNwCF332ZmN5xuYGZ2J3AnwJIlS9i+fTsAixYtYs6cOXR1dQEwb948li1bNja4QHZ2NtXV1XR2dnLs2DEAVq5cSX9/P729vQAsXryYnJwc9uzZA0BBQQElJSW0trYCkJOTQ2VlJR0dHQwPDwOwatUq+vr66OvrA6CkpISsrKyxL8P8+fMpLi6mvT044X7WrFlUVFSwc+dOTpwIuvArKyvp6enhyJEjACxdupSRkRG6u7sBKCwspLCwkF27dgGQm5tLeXk57e3tRKNRAKqrq+nu7qa/P7jvy/Lly4lGo+zfvx+AoqIiCgoK2L17NwB5eXmUlZXR2trKyZMngeCs07179479Ai8tLWVoaIiDBw8CsHDhQubOnUtnZycA+fn5lJaW0tLSgrtjZkQiEbq6ujh69CgAZWVlDA4OcujQIZWTyknllMJyAvj85z/PtddeO1ZOhw8f5oYbbmBgYEDlNEPKabrv01TM3adewewpd7/azH7p7leF837l7ldM87q/Bt4HvAzkAvOAR4A3AYvc/WUzuw64y93fNNW2ampqfOvWrVPGKSIiwXXcy5cv5+DBgxw/fpzZs2ezaNEi9uzZw3THe5k5zGybu9dMtCyu23qGZ4Z7uLEi4ritp7v/mbsvcfcVwHuAH7n7e4Em4J3hancAj8YRg4iIxGHBggXs2bOHlStXnvJ3wYIFqQ5NEiSexP1/CGrKC81sI9AM/NVZ7HMD8HEz203Q591wFtsSEZEYL730EosWLWLHjh0sX76cHTt2sGjRIl566aVUhyYJMmUft5llAV0EJ5jdSDDc6a3uflo3dnX3LcCW8PmzQLwnt4mIyGk4fvw4nZ2d5OXljc07duwYF154YQqjkkSaMnG7+4iZ/UPYt61hTkVEZrjZs2dz1VVX0dHRMXZSVXl5ObNnz051aJIg8TSVP2Fm7zCNUC8iMuMtXLiQXbt2cd1117F//36uu+46du3axcKFC1MdmiRIPJeD/QHwceBlMxsmaC53d5+X1MhEROS0Pf/886xevZpt27axePFiZs+ezerVq8cu+5L0N23idve55yIQERE5e+7Oz372M92PO4NNm7jN7HUTzXf3nyQ+HBERORtmxqWXXsrhw4fH5i1YsED3484g8TSV/2nM81yCM8K3EYykJiIiM0heXh6HDx9mxYoV/PCHP+Smm27iueee01nlGSSepvJbYqfNbCnBGOQiIjLDvPTSS1x88cVjg6+YGRdffDEvvPBCqkOTBDmTu4M9D+j+cCIiM9Q999xDdXU1WVlZVFdXc88996Q6JEmgePq47yMc7pQg0V8JPJXEmERE5Cx8/OMf57/+679Ys2YNzc3NvPWtb011SJJA8fRxx97d42Wg0d1/lqR4RETkLMyePZuhoSHuvfdeLrvsMu69916GhoY0AEsGiaeP+8FzEYiIiJy9aDRKJBJh8+bNFBUVAcEtLXUdd+aYNHGb2XZeaSL/Ne5+eVIiEhGRM1ZVVcXatWtxd9ra2k6Zlsww1clpNwO3AI+Hj/eGj+8C30l+aCIicrpqa2vZtGkT69atY3BwkHXr1rFp0yZqa2tTHZokiE33K8zMfhneZCR23lPufnVSI4tRU1PjW7dunX5FEZHzXCQS4dZbb+Xb3/72WI17dLqlpSXV4UmczGybu9dMuCyOxP008OHRE9LM7HrgH939ygTHOSklbhGR+GRnZzM8PExOTs7YvGg0Sm5uLidPnkxhZHI6pkrc8ZxVXgfcb2ajA9++CKxLUGwiIpJAVVVVlJSU0NvbOzavqKiIqioNv5Epph2Axd23ufsVwBXAFe5+pbvrOm4RkRnowIED9Pb2snr1avbs2cPq1avp7e3lwIEDqQ5NEmTaxG1mxWbWAHzd3fvNrNrM6s5BbCIicpoOHz5MeXk5AKWlpQCUl5efctMRSW/xNJU/APwrUB9O7wK+ATQkKSZJI4m645AuVRFJnB//+MdccsklY9MHDhxg8eLFKYxIEimescovdveHgBEAd38Z0BkOAgQJd6pHPOsoaYskVmVlJVlZWZgZWVlZVFZWpjokSaB4EvdLZlZIOBiLmb0G6E9qVCIickZmz57NwMAACxcupK2tjYULFzIwMKAhTzNIPE3lHwc2A2Vm9jOgCHhnUqMSEZEzcuLECS688EJ6enrGziS/8MILOXbsWIojk0SJZ6zyp8zs9UAFYMBOd48mPTIRETlt7k53dzcFBQVj8/r7+7noootSF5QkVDxnlX8YyHf3He7eAuSb2YeSH5qIiJwuM+Oiiy7CzMYeo9OSGeLp4/6Au784OuHuR4APJC0iERE5Y7Enez722GMTzpf0Fk/izraYn2pmlg3MSl5IIiJytsyMm2++WTXtDBRP4n4c+IaZ3WhmNwKN4TwREZmBtmzZwsjICO7OyMgIW7ZsSXVIkkDxnFW+AfgD4A/D6R8AX05aRCIiclZuuOGGVIcgSRTPWOUjBKOk3Q3cBdzv7hqARURkhvvSl76U6hAkCaatcZvZDcCDwHMEl4MtNbM73P0nSY1MRETOygc/+MFUhyBJEE8f998Bv+nur3f31wFvAr4w3YvMLNfM/sfMfmVmO8zs7nB+qZk9aWa7zewbZqYT3UREEmjbtm2nDCm8bdu2VIckCRRP4s5x952jE+6+C8iZYv1Rx4E3hLcEvRJ4czhc6ibgC+6+EjhCcL9vERFJkGuuueaU67ivueaaVIckCRRP4t5mZl82sxvCx78AW6d7kQeOhpM54cOBNwDfDOc/CNx6+mGLiMh01q5dm+oQJAniSdwfBFqBPw4frbxyhvmUzCzbzJ4GDhGcjd4JvBjeYQzgeaDkNGMWEZE4PProo6kOQZJgypPTwsFWfuXulcDnT3fj4dnnV5rZRcAjQNz3ljOzO4E7AZYsWcL27dsBWLRoEXPmzKGrqwuAefPmsWzZMlpaWgDIzs6murqazs7OsUH1V65cSX9/P729vQAsXryYnJwc9uzZA0BBQQElJSW0trYCkJOTQ2VlJR0dHQwPDwOwatUq+vr66OvrA6CkpISsrCz27dsHwPz58ykuLqa9vR2AWbNmUVFRwc6dOzlx4gQQ3Gqvp6eHI0eOALB06VJGRkbo7u4GoLCwkMLCQnbt2gVAbm4u5eXltLe3E40Gw8NXV1fT3d1Nf39wg7bly5cTjUbZv38/AEVFRRQUFLB7924A8vLyKCsro7W1lZMng4sBIpEIe/fuZWBgAIDS0lKGhoY4ePAgAAsXLmTu3Ll0dnYCkJ+fT2lpKS0tLbg7ZkYkEqGrq4ujR4NGlbKyMgYHBzl06NAp5QSwfft2ldMMLyd9nzKnnADe/va387WvfW2snD7zmc/wyCOPMDAwoHKaIeU03fdpKjbdMHhm9iiw3t33TrniNMzsL4AhguvCF7n7y2Z2HXCXu79pqtfW1NT41q3Tts7LDGRmGmpR5ByaaqQ0fRfTh5ltc/eaiZbF01Q+H9hhZk+Y2ebRRxw7LQpr2pjZHOCNQBvQxCu3Bb0DUFuOiEgSvOUtb0l1CJIE8Yyc9ukz3PYlwINhc3sW8JC7P2ZmrcDXzewvgV8SDO4iIiIJ9t3vfjfVIUgSTJq4zSyX4MS0lcB2oCHmpLJpufszwFUTzH8WuPb0QxURkXhs2bKF17/+9WPTP/7xjzUMagaZqsb9IBAFfgq8BagGPnIughIRkTOnJJ3Zpurjrnb333X3/0vQJ/3acxSTiIgkwIYNG1IdgiTBVIk7OvrkdJrIRURkZti0aVOqQ5AkmCpxX2FmA+FjELh89LmZDZyrAEVE5PQ88MADp4xV/sADD6Q6JEmgaa/jngl0HXf60nXcIueWruPODGd7HbeIiKShu+66K9UhSBIocYuIZCgl7sykxC0iIpJGlLhFRDKUzirPTErcIiIZKD8/n5tuuon8/PxUhyIJFs9Y5XIeW7Bgwdjt+M7UVGe5xmP+/PkcPnz4rLYhcr45evQo11xzTarDkCRQ4pYpHTlyJOWXkJxt4hcRySRqKhcRyVDve9/7Uh2CJIESt4hIhvrqV7+a6hAkCZS4RUQyzGOPPXbKkKePPfZYqkOSBFIft4hIhrn55ptTHYIkkWrcIiIZ6tWvfnWqQ5AkUOIWEclQTz75ZKpDkCRQ4hYRyTC33XbbKX3ct912W6pDkgTSbT1lSjPhtpwzIQaRdKHbemYG3dZTROQ8dOONN6Y6BEkCJW4RkQz1xBNPpDoESQIlbhGRDLNt27ZT+ri3bduW6pAkgXQdt4hIhtHNRTKbatwiIhlKY5VnJiVuEZEMpbHKM5MSt4hIhtmwYcMpfdwbNmxIdUiSQLqOW6Y0E66hngkxiKQLXcedGXQdt4jIeegd73hHqkOQJFDiFhHJUA8//HCqQ5AkSFriNrOlZtZkZq1mtsPMPhLOX2BmPzCzjvDv/GTFICJyPnr88cdP6eN+/PHHUx2SJFAyr+N+GfgTd3/KzOYC28zsB8D7gSfc/XNm9kngk4DOnBARSZA3v/nNqQ5BkihpNW53P+DuT4XPB4E2oARYCzwYrvYgcGuyYhAROZ997GMfS3UIkgTnpI/bzFYAVwFPAsXufiBcdBAoPhcxiIicb77whS+kOgRJgqQPeWpm+cDDwEfdfSD2UgV3dzOb8PoEM7sTuBNgyZIlbN++HYBFixYxZ84curq6AJg3bx7Lli2jpaUFgOzsbKqrq+ns7OTYsWMArFy5kv7+fnp7ewFYvHgxOTk57NmzB4CCggJKSkpobW0FICcnh8rKSjo6OhgeHgZg1apV9PX10dfXB0BJSQlZWVns27cPgPnz51NcXEx7ezsAs2bNoqKigp07d3LixAkAKisr6enp4ciRIwAsXbqUkZERuru7ASgsLKSwsJBdu3YBkJubS3l5Oe3t7USjUQCqq6vp7u6mv78fgOXLlxONRtm/fz8ARUVFFBQUsHv3bgDy8vIoKyujtbWVkydPAhCJRNi7dy8DAwMAlJaWMjQ0xMGDBwFYuHAhc+fOpbOzE4Curi5KS0tpaWnB3TEzIpEIXV1dHD16FICysjIGBwc5dOhQwssJYPv27SqnacopPz8/peWk79PMKCeAe+65hz/5kz8ZK6dHH32UT3/60wwMDKicZkg5xXPcm0xSr+M2sxzgMeB77v75cN5O4AZ3P2BmlwBb3L1iqu3oOu7UmQnXUM+EGETSha7jzgwpuY7bgv+eBqBtNGmHNgN3hM/vAB5NVgwiIuezTZs2pToESYKk1bjNbA3wU2A7MBLO/nOCfu6HgGXAHuDd7n54qm2pxp06M6G2OxNiEEkXqnFnhqlq3Enr43b3ZmCy/6Abk7VfEZHz3e7duykrKxub7uzsZOXKlSmMSBJJ9+MWEckwr3nNayguLqatrY2qqip6enpSHZIkkIY8FRHJILNnz+aFF17ghRdeYMeOHWPPZ8+enerQJEGUuEVEMsjKlSvJzc2lp6dnrLadm5urpvIMoqZyEZEM0tbWxvDw8CnXAkejUXJzc1MYlSSSEreISAapqqpi3rx5Y4OoQDCoSVVVVQqjkkRSU7mISAbZvXs3w8PDYyenFRcXMzw8PDaqmKQ/JW4RkQxy/PhxCgsLufjii1m9ejUXX3wxhYWFHD9+PNWhSYKoqVym5J+ZB3cVpD4GEYnbggUL2LFjBwA7duygvLx8bLxxSX9K3DIlu3sg5aMtmRl+V0pDEEkrHR0dvO1tb6OhoYG6ujo2b96c6pAkgdRULiKSgZ555hn6+/t55plnUh2KJJhq3CIiGSYvL4/nnntu7NrtvLy8sdtISvpTjVtEJMPcdNNNuPvY46abbkp1SJJAStwiIhnksssuY/Pmzaxdu5YXXniBtWvXsnnzZi677LJUhyYJoqZyEZEM8swzz3D55ZezefNmioqKgCCZq687cyhxi4hkGCXpzKamchGRDNPY2EgkEiE7O5tIJEJjY2OqQ5IEUo1bRCSDNDY2Ul9fT0NDA2vWrKG5uZm6ujoAbr/99hRHJ4mgGreISAbZuHEjDQ0N1NbWkpOTQ21tLQ0NDWzcuDHVoUmCWKpHxYpHTU2Nb926NdVhnJfMbGaMnJYG/6ciM0F2dvakt/U8efJkCiOT02Fm29y9ZqJlqnGLiGSQqqoq7r777lP6uO+++27d1jODKHGLiGSQ2tpaNm3axLp16xgcHGTdunVs2rSJ2traVIcmCaLELSKSQZqamtiwYQP3338/c+fO5f7772fDhg00NTWlOjRJEPVxy5RmQv/yTIhBJF2ojzszqI9bROQ8UVVVRXNz8ynzmpub1cedQZS4RUQySH19PXV1dTQ1NRGNRmlqaqKuro76+vpUhyYJogFYREQyyOggK+vXr6etrY2qqio2btyowVcyiPq4ZUozoX95JsQgMtOYWUK2o+/WzDRVH7dq3CIiaSiehKsfvZlJfdwiIiJpRIlbREQkjSQtcZvZ/WZ2yMxaYuYtMLMfmFlH+Hd+svYvIiKSiZJZ434AePO4eZ8EnnD3cuCJcFpERETilLTE7e4/AQ6Pm70WeDB8/iBwa7L2LyIikonOdR93sbsfCJ8fBIrP8f5FRETSWsouB3N3N7NJr1MwszuBOwGWLFnC9u3bAVi0aBFz5syhq6sLgHnz5rFs2TJaWoKu9OzsbKqrq+ns7OTYsWMArFy5kv7+fnp7ewFYvHgxOTk57NmzB4CCggJKSkpobW0FICcnh8rKSjo6OhgeHgZg1apV9PX10dfXB0BJSQlZWVns27cPgPnz51NcXEx7ezsAs2bNoqKigp07d3LixAkAKisr6enp4ciRIwAsXbqUkZERuru7ASgsLKSwsJBdu3YBkJubS3l5Oe3t7USjUQCqq6vp7u6mv78fgOXLlxONRtm/fz8ARUVFFBQUsHv3bgDy8vIoKyujtbV1bJziSCTC3r17GRgYAKC0tJShoSEOHjwIwMKFC5k7dy6dnZ0AdHV1UVpaSktLC+6OmRGJROjq6uLo0aMAlJWVMTg4yKFDhxJeTgDbt29XOU1TTvn5+SktJ32fZl45AWPHTpXTzC2nyY57k0nqACxmtgJ4zN0j4fRO4AZ3P2BmlwBb3L1iuu1oAJbUmQnXgc6EGETSkb476Wsm3WRkM3BH+PwO4NFzvH8REZG0lszLwRqBnwMVZva8mdUBnwPeaGYdwE3htIiIiMQpaX3c7j7ZiPY3JmufIiIimU4jp4mIiKQRJW4REZE0osQtIiKSRpS4RURE0ogSt4iISBpR4hYREUkjStwiIiJpRIlbREQkjShxi4iIpBElbhERkTSixC0iIpJGlLhFRETSiBK3iMgMtGDBAszsrB7AWb1+wYIFKf4UZCJJuzuYiIicuSNHjuDuKY1hNPnLzKIat4iISBpR4hYREUkjStwiIiJpRIlbREQkjShxi4iIpBElbhERkTSixC0iIpJGlLhFRETSiBK3iIhIGlHiFhERSSNK3CIiImlEiVtERCSN6CYjMq1U32hg/vz5Kd2/iMhMosQtUzrbuxOZWcrvcCQikknUVC4iIpJGlLhFRETSSEqays3szcAXgWzgy+7+uVTEIWcvnv7veNZRc7rIqfwz8+CugtTHIDPOOU/cZpYN/APwRuB54BdmttndW891LHL2lHBFkuSu/lRHIDNUKprKrwV2u/uz7n4C+DqwNgVxiIiIpJ1UJO4SYF/M9PPhPBEREZnGjL0czMzuBO4EWLJkCdu3bwdg0aJFzJkzh66uLgDmzZvHsmXLaGlpASA7O5vq6mo6Ozs5duwYACtXrqS/v5/e3l4AFi9eTE5ODnv27AGgoKCAkpISWluD1vqcnBwqKyvp6OhgeHgYgFWrVtHX10dfXx8AJSUlZGVlsW9f8Btk/vz5FBcX097eDsCsWbOoqKhg586dnDhxAoDKykp6eno4cuQIAEuXLmVkZITu7m4ACgsLKSwsZNeuXQDk5uZSXl5Oe3s70WgUgOrqarq7u+nvD5rRli9fTjQaZf/+/QAUFRVRUFDA7t27AcjLy6OsrIzW1lZOnjwJQCQSYe/evQwMDABQWlrK0NAQBw8eBGDhwoXMnTuXzs5OAPLz8yktLaWlpQV3x8yIRCJ0dXVx9OhRAMrKyhgcHOTQoUMqJ5WTyknlpHI6y3Kaip3rPkozuw64y93fFE7/GYC7//Vkr6mpqfGtW7eeowhFRERSy8y2uXvNRMtS0VT+C6DczErNbBbwHmBzCuIQERFJO+e8qdzdXzazPwK+R3A52P3uvuNcxyEiIpKOUtLH7e7fAb6Tin2LiIikM42cJiIikkaUuEVERNKIEreIiEgaUeIWERFJI0rcIiIiaUSJW0REJI2c85HTzoSZ9QJ7Uh2HnJGLgRdSHYTIeUrfv/S13N2LJlqQFolb0peZbZ1s2D4RSS59/zKTmspFRETSiBK3iIhIGlHilmT751QHIHIe0/cvA6mPW0REJI2oxi0iIpJGlLgTwMxOmtnTZvYrM3vKzK6fZv0VZvY7MdPvN7O/j2M/OWb2OTPrCPfzczN7S7iswMy+Yma7zawzfF5gZnlm1mdm88Zt69tmdlvsvs3sLjPrDt9Lh5l9y8yqp4jncTN70cweGzf/DWF8LWb2oJkl/C50ZnbD+P3GzO83s1+a2U4z+4mZ3Ryz/INm9nvTbPsBM3vnacRySnnK+cnMlpjZo+F3p9PMvmhms+J43XNmdvFp7GeRmX093Mc2M/uOma0Kl602sx+F//sdZvZpC7zezH4+bjsXmFmPmS2O/Z83sy3h658xs3Yz+3szu2iSWCrD49BxM/tf45Z9JDwG7DCzj8b7/mR6StyJMeTuV7r7FcCfAX89zforgDM50N8DXAJE3P1q4FZgbrisAXjW3Ve6exnQBXzZ3Y8R3Pv87aMbMbMCYA3wnxPs4wvheykHvgH8yMwmvJYQ+FvgfbEzzCwLeBB4j7tHCK6/v+MM3uvZ+Km7X+XuFcAfA39vZjcCuPuX3P0rCd7fCs6sPCVDmJkB3wK+HX53VgH5wMYk7OcRYIu7l7n7NQTHnGIzmwNsBj4X/u9fAVwPfAj4KbDEzJbHbO4mYIe7759gV+9198uBy4HjwKOThHSY4Dv2v8fFGQE+AFwbxnGzma08k/csv06JO/HmAUcg+JKZ2d+Gvzq3m9lt4TqfA14b1mw/Fs5bHNZgO8zsb8Zv1MzyCL4I6939OIC797j7Q+EX4hqCxD7qs0CNmZUBjcB7Ypa9HfhemNQn5e7fAL7PJEnJ3Z8ABsfNLgROuPuucPoHwDsmeD8rzOynYc18rJUirDFvMbNvhr/2vxYerDCzN4fzngJ+e6rYY2J8muCz+KNwG3eN1gzM7ANm9gsLWkoeDj/jUTeZ2VYz2zVaYzez7LA8fxHWRv4gXPeU8pxsPTO7JGwBeDr8n3htPO9B0sIbgGF3/1cAdz8JfAxYZ0Gr1/staMGa6jv+2diaqZltNLOPjFutFoi6+5dGZ7j7r9z9pwTf05+5+/fD+ccI/u8/6e4jwEOcehx4D8GxYVLufgL4BLDMzK6YYPkhd/8FEB23qAp40t2PufvLwI+J8zsr01PiTow54cG4HfgyryTQ3wauJPjFeRPwt2Z2CfBJglrhle7+hXDdK4HbgMuA28xs6bh9rAT2uvvABPuvBp4ODxbA2IHjaWA1QY37ajMrDBdP+4WN8RRQGee6EIzSdIGZjQ768E5g/HsBOAS8MWw5uA34PzHLrgI+SvC+LgV+w8xygX8BbiH4kbLoNGKa7D18y91fFbaUtAF1MctWENQW3gp8Kdx/HdDv7q8CXgV8wMxK+fXynGy93yH4wXQlwf/E06fxHmRmWw1si50Rflf3Enx3Yfrv+P3A78FYy9V7gH8bt05k/H6miaETyLegq2zsB7yZzQZ+C3h4ujcWHkt+xekdB1oIfswWhj+If4uJjwNyBhLe93ieGgoPxpjZdcBXwqaiNUBj+I/fY2Y/JjiQT5R8n3D3/nAbrcByYF8ignP3E2a2GXinmT1MkBi/F+fL7TT35Wb2HuAL4cHh+8DJCVbNIWjCvjJcvipm2f+4+/MAZvY0QRI9CnS5e0c4/9+AO8/yPUTM7C+BiwiaNWM/k4fCWkqHmT1LcND6TeBye6X/uwAoB06M2+5k6/0CuN/McgiaVJ+OM37JDFN+x939OQvOR7kKKAZ+6e59idq5u281s3wzq+CVGvHhOF9+useBNjPbRPD9f4ngR+pExwE5A6pxJ5i7/5xgfODJ+oUnczzm+Ul+/UfVboLmqnn8ulbgyvBXOjD2i/3KcBm88mv7ncCj7j6+aWsyVwFtZvbqsFXhaTN721QvcPefu/tr3f1a4CfArglW+xjQQ1DzrAFiT+KZ7rM4XVcR1KjHewD4I3e/DLgbyI1ZNv46SSc4eK0Pa9ZXunvpaLPkOBOu5+4/AV4HdAMP2DQnyUlaaSVoCRoTfleXEXx3Ib7/6y8D7wd+n6AGPt6O8fuZJoZLgaMxLXWjx4G4W93MLJuglaDNzD4ccxxYPNXr3L3B3a9x99cRdB9OdByQM6DEnWBmVglkA30EJ4TcFvZ5FhEctP+HoF947uRb+XVhf1UD8EULz1Q1syIze5e77wZ+CXwq5iWfAp4KlwFsIaj1fZj4v7DvIKg9Nrr7kzGJaPM0r1sY/p0NbAC+NMFqBcCBsFb7PoLPbCrtwIqwzx7g9jjfw+XAp4F/mGDxXOBAWAN+77hl7zKzrHB/lwI7CWrkfxiuj5mtMrML+fXynHA9C04M6nH3fyE4QF8dz3uQtPAEkDf6YyxMdn8HPDDduSTjPAK8maBlbqJWsR8Bs81srLXJzC4Pz5f4GrDGzG4K588h6IKK7U9vBH6XoE9+shPOxoT/w38N7HP3Z9z9H2KOAxOd1Bb72tHjwDKCbsN/n25/Eh81lSfGnLBJF4La1h3uftLMHgGuI+gfcuAT7n7QzPqAk2b2K4Ja35E49/Mp4C+BVjMbJmiC+otwWR1wn5l1htM/J6bP1t1HzOybwLsJThSZzMfM7HeBCwn6qd7g7r0TrWhmPyVoQs43s+eBOnf/HvCn4QldWcA/ufuPJnj5PwIPhwe6x8P3Mil3Hw4PVv9lZscIfhRN9uPntWb2SyCPoC/9j8MT6cb7NPAk0Bv+jd3eXoIfWfOAD4b7/zJBs/1TZmbh624FnuHU8vziJOvdEH42UYKmf9W4M0TYRfR24B/N7NME//vfAf78NLdzwsyagBdjz1mZYD/3mtkGYBh4Dviouw+Z2VqC48A/EPwY/irw9zGvbzOzl4Bt7j7Vd+5rZnYcmA38EFg70UpmtgjYSvA9GQlPrqsOa/gPh+fVRIEPu/uLp/NZyOQ0cpqIyAwRdnE9Bbxr9HwOkfHUVC4iMgNYMNjRboKT2JS0ZVKqcYuIiKQR1bhFRETSiBK3iIhIGlHiFhERSSNK3CIiImlEiVtERCSNKHGLiIikkf8fUeTvnMDzwRkAAAAASUVORK5CYII=\n",
       "datasetInfos": [],
       "metadata": {},
       "removedWidgets": [],
       "type": "image"
      }
     },
     "output_type": "display_data"
    }
   ],
   "source": [
    "# Re-import necessary libraries\n",
    "import matplotlib.pyplot as plt\n",
    "\n",
    "# Create box plots\n",
    "plt.figure(figsize=(8, 6))\n",
    "plt.boxplot([both_counts_list, only_covid_counts_list], labels=['Both COVID-19 and Diabetes', 'Only COVID-19'])\n",
    "\n",
    "# Customize the plot\n",
    "plt.title('Procedure Length Comparison')\n",
    "plt.ylabel('Procedure Length')\n",
    "plt.grid(axis='y', linestyle='--', alpha=0.7)\n",
    "plt.show()\n"
   ]
  },
  {
   "cell_type": "markdown",
   "metadata": {
    "application/vnd.databricks.v1+cell": {
     "cellMetadata": {},
     "inputWidgets": {},
     "nuid": "e18d4437-d24b-4445-96bf-48fd4693cc3a",
     "showTitle": false,
     "tableResultSettingsMap": {},
     "title": ""
    }
   },
   "source": [
    "##### Run t-test to check if there is a difference between the means of procedure lengths of two groups of patients."
   ]
  },
  {
   "cell_type": "code",
   "execution_count": 0,
   "metadata": {
    "application/vnd.databricks.v1+cell": {
     "cellMetadata": {
      "byteLimit": 2048000,
      "rowLimit": 10000
     },
     "inputWidgets": {},
     "nuid": "e5c5fcfc-fe46-4aa9-b4d5-021a5ad30e5b",
     "showTitle": false,
     "tableResultSettingsMap": {},
     "title": ""
    }
   },
   "outputs": [
    {
     "output_type": "stream",
     "name": "stdout",
     "output_type": "stream",
     "text": [
      "T-statistic: 1.31\nP-value: 0.2608\nThere is no statistically significant difference between the means of procedure lengths of two groups.\n"
     ]
    }
   ],
   "source": [
    "# Import necessary libraries\n",
    "import pandas as pd\n",
    "from scipy import stats\n",
    "\n",
    "\n",
    "# Run t-test to compare the means\n",
    "t_stat, p_value = stats.ttest_ind(both_counts_list, only_covid_counts_list, equal_var=False)\n",
    "\n",
    "# Display results\n",
    "print(f\"T-statistic: {t_stat:.2f}\")\n",
    "print(f\"P-value: {p_value:.4f}\")\n",
    "\n",
    "# Interpret the result\n",
    "if p_value < 0.05:\n",
    "    print(\"With 95% confidence, there is a statistically significant difference between the means of procedure lengths of two groups.\")\n",
    "else:\n",
    "    if p_value < 0.1:\n",
    "        print(\"With 90% confidence, there is a statistically significant difference between the means of procedure lengths of two groups.\")\n",
    "    else:\n",
    "        print(\"There is no statistically significant difference between the means of procedure lengths of two groups.\")\n"
   ]
  },
  {
   "cell_type": "markdown",
   "metadata": {
    "application/vnd.databricks.v1+cell": {
     "cellMetadata": {},
     "inputWidgets": {},
     "nuid": "9cb7d11f-d72f-490d-9545-1bde4d799aad",
     "showTitle": false,
     "tableResultSettingsMap": {},
     "title": ""
    }
   },
   "source": [
    "#### Conclusion: \n",
    "- Because p-value = 0.26 > 0.05, we cannot reject H0 with 95% confidence. \n",
    "- It means that with 95% confidence, there is no evidence that there is a difference between the procedure lengths of two groups of patients.\n",
    "- However, the Box Plot shows that with respect to central tendency, the median of procedure lengths of patients who have both COVID-19 and diabetes is higher than the median of procedure lengths of patients who have only COVID-19. The doctors and healthcare providers still need to pay an attention on that.\n",
    "- The group of patients having both COVID-19 and diabetes has a very small sample size (n=5). It may affect the results of the statistical test."
   ]
  },
  {
   "cell_type": "markdown",
   "metadata": {
    "application/vnd.databricks.v1+cell": {
     "cellMetadata": {},
     "inputWidgets": {},
     "nuid": "64d08e6e-2ea5-48f8-b8f5-c12d192eeda5",
     "showTitle": false,
     "tableResultSettingsMap": {},
     "title": ""
    }
   },
   "source": [
    "### Hypothesis 2: (Quang Loc Lam) \n",
    "\n",
    "- H0: There is no difference between the procedure lenghts of patients having both COVID-19 and fever and the procedure lengths of patients having only COVID-19.\n",
    "- H1: The procedure lenghts of patients having both COVID-19 and fever are longer than the procedure lengths of patients having only COVID-19.\n",
    "\n",
    "##### Motivation of our hypothesis: \n",
    "The reason for this hypothesis is that having fever is associated with more serious infection. As a result, it can make the patient to have a longer procedure."
   ]
  },
  {
   "cell_type": "markdown",
   "metadata": {
    "application/vnd.databricks.v1+cell": {
     "cellMetadata": {},
     "inputWidgets": {},
     "nuid": "216783bf-e3d3-4d6a-a40e-b0837029a63c",
     "showTitle": false,
     "tableResultSettingsMap": {},
     "title": ""
    }
   },
   "source": [
    "##### Value:\n",
    "This study will help doctors and healthcare providers allocate resources better if the COVID-19 patients need extra procedure lengths."
   ]
  },
  {
   "cell_type": "markdown",
   "metadata": {
    "application/vnd.databricks.v1+cell": {
     "cellMetadata": {},
     "inputWidgets": {},
     "nuid": "818db787-0539-471a-b0fd-160e39f11d9e",
     "showTitle": false,
     "tableResultSettingsMap": {},
     "title": ""
    }
   },
   "source": [
    "##### Methodology:\n",
    "We collect the procedure lenths of two groups of patients:\n",
    "- Patients having both COVID-19 and fever.\n",
    "- Patients having only COVID-19.\n",
    "\n",
    "Then we draw the Box Plots and run the t-test to see if there is a difference in the procedure lengths of two groups."
   ]
  },
  {
   "cell_type": "markdown",
   "metadata": {
    "application/vnd.databricks.v1+cell": {
     "cellMetadata": {},
     "inputWidgets": {},
     "nuid": "8c2d97f9-1d5c-44c5-a276-1cba5aa31363",
     "showTitle": false,
     "tableResultSettingsMap": {},
     "title": ""
    }
   },
   "source": [
    "##### Calculate the number of patients and the percentages"
   ]
  },
  {
   "cell_type": "code",
   "execution_count": 0,
   "metadata": {
    "application/vnd.databricks.v1+cell": {
     "cellMetadata": {
      "byteLimit": 2048000,
      "rowLimit": 10000
     },
     "inputWidgets": {},
     "nuid": "3c1af99a-2719-485b-9949-995c26b8da6d",
     "showTitle": false,
     "tableResultSettingsMap": {},
     "title": ""
    }
   },
   "outputs": [
    {
     "output_type": "stream",
     "name": "stdout",
     "output_type": "stream",
     "text": [
      "Percentage of COVID-19 patients with Fever: 89.27%\nPercentage of Fever patients with COVID-19: 96.90%\nTotal with Fever: 1322\nTotal with COVID-19: 1435\nTotal with both Fever and COVID-19: 1281\n"
     ]
    }
   ],
   "source": [
    "from pyspark.sql.functions import expr\n",
    "\n",
    "# Filter records with 'Fever'\n",
    "fever_df = df.filter(\n",
    "    expr(\"exists(conditions, x -> LOWER(x.description) LIKE '%fever%')\")\n",
    ")\n",
    "\n",
    "# Filter records with 'COVID-19'\n",
    "covid_df = df.filter(\n",
    "    expr(\"exists(conditions, x -> x.description = 'COVID-19')\")\n",
    ")\n",
    "\n",
    "# Filter records with both 'Fever' and 'COVID-19'\n",
    "fever_covid_df = df.filter(\n",
    "    expr(\"exists(conditions, x -> LOWER(x.description) LIKE '%fever%')\") & \n",
    "    expr(\"exists(conditions, x -> x.description = 'COVID-19')\")\n",
    ")\n",
    "\n",
    "# Count occurrences\n",
    "total_fever = fever_df.count()\n",
    "total_covid = covid_df.count()\n",
    "total_both = fever_covid_df.count()\n",
    "\n",
    "# Calculate conditional probabilities\n",
    "if total_covid > 0:\n",
    "    p_fever_given_covid = (total_both / total_covid) * 100\n",
    "    print(f\"Percentage of COVID-19 patients with Fever: {p_fever_given_covid:.2f}%\")\n",
    "\n",
    "if total_fever > 0:\n",
    "    p_covid_given_fever = (total_both / total_fever) * 100\n",
    "    print(f\"Percentage of Fever patients with COVID-19: {p_covid_given_fever:.2f}%\")\n",
    "\n",
    "# Print raw counts for reference\n",
    "print(f\"Total with Fever: {total_fever}\")\n",
    "print(f\"Total with COVID-19: {total_covid}\")\n",
    "print(f\"Total with both Fever and COVID-19: {total_both}\")\n"
   ]
  },
  {
   "cell_type": "code",
   "execution_count": 0,
   "metadata": {
    "application/vnd.databricks.v1+cell": {
     "cellMetadata": {
      "byteLimit": 2048000,
      "rowLimit": 10000
     },
     "inputWidgets": {},
     "nuid": "b3b1851f-ccac-4625-b7c5-c895dd4dc27c",
     "showTitle": false,
     "tableResultSettingsMap": {},
     "title": ""
    }
   },
   "outputs": [
    {
     "output_type": "stream",
     "name": "stdout",
     "output_type": "stream",
     "text": [
      "Number of patients with only COVID-19 (no fever): 154\nNumber of patients with only fever (no COVID-19): 41\nNumber of patients with COVID-19 and fever: 1281\n"
     ]
    }
   ],
   "source": [
    "from pyspark.sql.functions import expr\n",
    "\n",
    "# Filter patients with only COVID-19 (without fever)\n",
    "only_covid = procedure_length.filter(\n",
    "    expr(\"exists(conditions, x -> x.description = 'COVID-19')\") & \n",
    "    ~expr(\"exists(conditions, x -> LOWER(x.description) LIKE '%fever%')\")\n",
    ")\n",
    "\n",
    "# Count the number of matching rows\n",
    "count_only_covid = only_covid.count()\n",
    "print(f\"Number of patients with only COVID-19 (no fever): {count_only_covid}\")\n",
    "\n",
    "\n",
    "# Filter patients with only fever (without COVID-19)\n",
    "only_fever = procedure_length.filter(\n",
    "    expr(\"exists(conditions, x -> LOWER(x.description) LIKE '%fever%')\") & \n",
    "    ~expr(\"exists(conditions, x -> x.description = 'COVID-19')\")\n",
    ")\n",
    "\n",
    "# Count the number of matching rows\n",
    "count_only_fever = only_fever.count()\n",
    "print(f\"Number of patients with only fever (no COVID-19): {count_only_fever}\")\n",
    "\n",
    "# Filter patients with COVID-19 and fever\n",
    "both_covid_fever = procedure_length.filter(\n",
    "    expr(\"exists(conditions, x -> x.description = 'COVID-19')\") & \n",
    "    expr(\"exists(conditions, x -> LOWER(x.description) LIKE '%fever%')\"))\n",
    "\n",
    "# Count the number of matching rows\n",
    "count_both_covid_fever = both_covid_fever.count()\n",
    "print(f\"Number of patients with COVID-19 and fever: {count_both_covid_fever}\")\n"
   ]
  },
  {
   "cell_type": "markdown",
   "metadata": {
    "application/vnd.databricks.v1+cell": {
     "cellMetadata": {},
     "inputWidgets": {},
     "nuid": "f329e6ce-d6e0-4392-a5eb-44b72c733123",
     "showTitle": false,
     "tableResultSettingsMap": {},
     "title": ""
    }
   },
   "source": [
    "##### Collect the procedure lengths of patients having both COVID-19 and fever"
   ]
  },
  {
   "cell_type": "code",
   "execution_count": 0,
   "metadata": {
    "application/vnd.databricks.v1+cell": {
     "cellMetadata": {
      "byteLimit": 2048000,
      "rowLimit": 10000
     },
     "inputWidgets": {},
     "nuid": "1382be5e-3cc4-4823-87e2-55d8df660461",
     "showTitle": false,
     "tableResultSettingsMap": {},
     "title": ""
    }
   },
   "outputs": [
    {
     "output_type": "stream",
     "name": "stdout",
     "output_type": "stream",
     "text": [
      "Out[46]: [16, 1, 12, 56, 1, 1, 1, 1, 1, 1, 1, 42, 1, 2, 19, 2, 3, 1, 32, 1]"
     ]
    }
   ],
   "source": [
    "both_counts = both_covid_fever.select(\"procedure_length\").collect()\n",
    "both_counts_list = [row['procedure_length'] for row in both_counts]\n",
    "both_counts_list[0:20]"
   ]
  },
  {
   "cell_type": "markdown",
   "metadata": {
    "application/vnd.databricks.v1+cell": {
     "cellMetadata": {},
     "inputWidgets": {},
     "nuid": "55f96a09-11fa-4556-b099-22b73cc2d6ca",
     "showTitle": false,
     "tableResultSettingsMap": {},
     "title": ""
    }
   },
   "source": [
    "##### Collect the procedure lengths of patients having only COVID-19"
   ]
  },
  {
   "cell_type": "code",
   "execution_count": 0,
   "metadata": {
    "application/vnd.databricks.v1+cell": {
     "cellMetadata": {
      "byteLimit": 2048000,
      "rowLimit": 10000
     },
     "inputWidgets": {},
     "nuid": "feed9e3d-2f86-4244-a82a-cebf929c9d8c",
     "showTitle": false,
     "tableResultSettingsMap": {},
     "title": ""
    }
   },
   "outputs": [
    {
     "output_type": "stream",
     "name": "stdout",
     "output_type": "stream",
     "text": [
      "Out[47]: [3, 1, 1, 4, 33, 26, 4, 20, 31, 1, 5, 1, 1, 1, 1, 1, 1, 1, 1, 8]"
     ]
    }
   ],
   "source": [
    "only_covid_counts = only_covid.select(\"procedure_length\").collect()\n",
    "only_covid_counts_list = [row['procedure_length'] for row in only_covid_counts]\n",
    "only_covid_counts_list[0:20]"
   ]
  },
  {
   "cell_type": "markdown",
   "metadata": {
    "application/vnd.databricks.v1+cell": {
     "cellMetadata": {},
     "inputWidgets": {},
     "nuid": "0f133d92-316c-4754-a7f0-d632f51d6e4f",
     "showTitle": false,
     "tableResultSettingsMap": {},
     "title": ""
    }
   },
   "source": [
    "##### Draw Box Plots to compare the procedure lengths of these patients"
   ]
  },
  {
   "cell_type": "code",
   "execution_count": 0,
   "metadata": {
    "application/vnd.databricks.v1+cell": {
     "cellMetadata": {
      "byteLimit": 2048000,
      "rowLimit": 10000
     },
     "inputWidgets": {},
     "nuid": "c7e08aa9-bf3e-4686-957a-3df1eb901944",
     "showTitle": false,
     "tableResultSettingsMap": {},
     "title": ""
    }
   },
   "outputs": [
    {
     "output_type": "display_data",
     "data": {
      "image/png": "[encoded data removed]"
     },
     "metadata": {
      "application/vnd.databricks.v1+output": {
       "addedWidgets": {},
       "arguments": {},
       "data": "data:image/png;base64,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\n",
       "datasetInfos": [],
       "metadata": {},
       "removedWidgets": [],
       "type": "image"
      }
     },
     "output_type": "display_data"
    }
   ],
   "source": [
    "# Re-import necessary libraries\n",
    "import matplotlib.pyplot as plt\n",
    "\n",
    "# Create box plots\n",
    "plt.figure(figsize=(8, 6))\n",
    "plt.boxplot([both_counts_list, only_covid_counts_list], labels=['Both COVID-19 and Fever', 'Only COVID-19'])\n",
    "\n",
    "# Customize the plot\n",
    "plt.title('Procedure Length Comparison')\n",
    "plt.ylabel('Procedure Length')\n",
    "plt.grid(axis='y', linestyle='--', alpha=0.7)\n",
    "plt.show()"
   ]
  },
  {
   "cell_type": "markdown",
   "metadata": {
    "application/vnd.databricks.v1+cell": {
     "cellMetadata": {},
     "inputWidgets": {},
     "nuid": "ed5b6ccd-6d0a-4c8b-9b67-515e9587dbc5",
     "showTitle": false,
     "tableResultSettingsMap": {},
     "title": ""
    }
   },
   "source": [
    "##### Run t-test to see if there is a difference between the means of procedure lengths of two groups"
   ]
  },
  {
   "cell_type": "code",
   "execution_count": 0,
   "metadata": {
    "application/vnd.databricks.v1+cell": {
     "cellMetadata": {
      "byteLimit": 2048000,
      "rowLimit": 10000
     },
     "inputWidgets": {},
     "nuid": "a5ff8724-9642-459c-b437-e32186f92fe7",
     "showTitle": false,
     "tableResultSettingsMap": {},
     "title": ""
    }
   },
   "outputs": [
    {
     "output_type": "stream",
     "name": "stdout",
     "output_type": "stream",
     "text": [
      "T-statistic: 1.11\nP-value: 0.2664\nThere is no statistically significant difference between the procedure lengths of two groups.\n"
     ]
    }
   ],
   "source": [
    "# Import necessary libraries\n",
    "import pandas as pd\n",
    "from scipy import stats\n",
    "\n",
    "# Perform independent t-test\n",
    "t_stat, p_value = stats.ttest_ind(both_counts_list, only_covid_counts_list, equal_var=False)\n",
    "\n",
    "# Display the results\n",
    "print(f\"T-statistic: {t_stat:.2f}\")\n",
    "print(f\"P-value: {p_value:.4f}\")\n",
    "\n",
    "# Interpret the result\n",
    "if p_value < 0.05:\n",
    "    print(\"With 95% confidence, there is a statistically significant difference between the procedure lengths of two groups.\")\n",
    "else:\n",
    "    if p_value < 0.1:\n",
    "        print(\"With 90% confidence, there is a statistically significant difference between the procedure lengths of two groups.\")\n",
    "    else:\n",
    "        print(\"There is no statistically significant difference between the procedure lengths of two groups.\")\n"
   ]
  },
  {
   "cell_type": "markdown",
   "metadata": {
    "application/vnd.databricks.v1+cell": {
     "cellMetadata": {},
     "inputWidgets": {},
     "nuid": "dbaeba7a-41cd-4e96-821c-c729ab0f6416",
     "showTitle": false,
     "tableResultSettingsMap": {},
     "title": ""
    }
   },
   "source": [
    "###### Conclusion\n",
    "\n",
    "- Because p-value = 0.2664 > 0.05, we cannot reject the H0 hypothesis with 95% confidence.\n",
    "- In other words, there is no evidence that there is a difference between the procedure lengths of of patients having both COVID-19 and fever and the procedure lengths of patients having only COVID-19 with 95% confidence.\n",
    "- The Box Plots show  that the medians of procedure lengths of two groups of patients are the same.\n",
    "- Therefore, we can conclude that having fever does not make a COVID-19 patient to have a longer procedure length, with 95% confidence.\n",
    "- An explanation for this result is that having fever means that a patient has more serious infection. However, the difference in infection is not strong enough to make the patient to have a longer procedure."
   ]
  }
 ],
 "metadata": {
  "application/vnd.databricks.v1+notebook": {
   "computePreferences": null,
   "dashboards": [],
   "environmentMetadata": null,
   "language": "python",
   "notebookMetadata": {
    "pythonIndentUnit": 4
   },
   "notebookName": "Assignment 3 new",
   "widgets": {}
  }
 },
 "nbformat": 4,
 "nbformat_minor": 0
}
