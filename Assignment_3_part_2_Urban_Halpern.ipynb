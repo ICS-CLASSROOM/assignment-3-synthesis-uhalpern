{
 "cells": [
  {
   "cell_type": "markdown",
   "metadata": {
    "application/vnd.databricks.v1+cell": {
     "cellMetadata": {},
     "inputWidgets": {},
     "nuid": "c4ad3344-ccb9-4195-95f4-b1236cf30e3d",
     "showTitle": false,
     "tableResultSettingsMap": {},
     "title": ""
    }
   },
   "source": [
    "## Final Assignment Overview: Working with Patient Records and Encounter Notes\n",
    "\n",
    "In this final assignment, we’ll focus on patient records related to COVID-19 encounters. Our task is to analyze, process, and transform the data while applying the concepts we’ve covered throughout this course. Here's a detailed breakdown of the assignment:\n",
    "\n",
    "What Are Encounter Notes?\n",
    "An encounter note is a record that captures details about a patient’s visit with a doctor. It includes both structured and semi-structured information that is crucial for understanding the context of the visit. Here’s what an encounter note typically looks like:\n",
    "\n",
    "```\n",
    "AMBULATORY ENCOUNTER NOTE\n",
    "Date of Service: March 2, 2020 15:45-16:30\n",
    "\n",
    "DEMOGRAPHICS:\n",
    "Name: Jeffrey Greenfelder\n",
    "DOB: 1/16/2005\n",
    "Gender: Male\n",
    "Address: 428 Wiza Glen Unit 91, Springfield, Massachusetts 01104\n",
    "Insurance: Guardian\n",
    "MRN: 055ae6fc-7e18-4a39-8058-64082ca6d515\n",
    "\n",
    "PERTINENT MEDICAL HISTORY:\n",
    "- Obesity \n",
    "\n",
    "Recent Visit: Well child visit (2/23/2020)\n",
    "Immunizations: Influenza vaccine (2/23/2020)\n",
    "\n",
    "Recent Baseline (2/23/2020):\n",
    "Height: 155.0 cm\n",
    "Weight: 81.2 kg\n",
    "BMI: 33.8 kg/m² (99.1th percentile)\n",
    "BP: 123/80 mmHg\n",
    "HR: 92/min\n",
    "RR: 13/min\n",
    "\n",
    "SUBJECTIVE:\n",
    "Adolescent patient presents with multiple symptoms including:\n",
    "- Cough\n",
    "- Sore throat\n",
    "- Severe fatigue\n",
    "- Muscle pain\n",
    "- Joint pain\n",
    "- Fever\n",
    "Never smoker. Symptoms began recently.\n",
    "\n",
    "OBJECTIVE:\n",
    "Vitals:\n",
    "Temperature: 39.3°C (102.7°F)\n",
    "Heart Rate: 131.1/min\n",
    "Blood Pressure: 120/73 mmHg\n",
    "Respiratory Rate: 27.6/min\n",
    "O2 Saturation: 75.8% on room air\n",
    "Weight: 81.2 kg\n",
    "\n",
    "Laboratory/Testing:\n",
    "Comprehensive Respiratory Panel:\n",
    "- Influenza A RNA: Negative\n",
    "- Influenza B RNA: Negative\n",
    "- RSV RNA: Negative\n",
    "- Parainfluenza virus 1,2,3 RNA: Negative\n",
    "- Rhinovirus RNA: Negative\n",
    "- Human metapneumovirus RNA: Negative\n",
    "- Adenovirus DNA: Negative\n",
    "- SARS-CoV-2 RNA: Positive\n",
    "\n",
    "ASSESSMENT:\n",
    "1. Suspected COVID-19 with severe symptoms\n",
    "2. Severe hypoxemia requiring immediate intervention\n",
    "3. Tachycardia (HR 131)\n",
    "4. High-grade fever\n",
    "5. Risk factors:\n",
    "   - Obesity (BMI 33.8)\n",
    "   - Adolescent age\n",
    "\n",
    "PLAN:\n",
    "1. Face mask provided for immediate oxygen support\n",
    "2. Infectious disease care plan initiated\n",
    "3. Close monitoring required due to:\n",
    "   - Severe hypoxemia\n",
    "   - Tachycardia\n",
    "   - Age and obesity risk factors\n",
    "4. Parent/patient education on:\n",
    "   - Home isolation protocols\n",
    "   - Warning signs requiring emergency care\n",
    "   - Return precautions\n",
    "5. Follow-up plan:\n",
    "   - Daily monitoring during acute phase\n",
    "   - Virtual check-ins as needed\n",
    "\n",
    "Encounter Duration: 45 minutes\n",
    "Encounter Type: Ambulatory\n",
    "Provider: ID# e2c226c2-3e1e-3d0b-b997-ce9544c10528\n",
    "Facility: 5103c940-0c08-392f-95cd-446e0cea042a\n",
    "```\n",
    "\n",
    "\n",
    "The enocuter contains\n",
    "\n",
    "* General encounter information: \n",
    "\n",
    "  * When the encounter took place: Date and time of the visit.\n",
    "  * Demographics: Patient’s age, gender, and unique medical record identifier.\n",
    "  * Encounter details: The reason for the visit, diagnosis, and any associated costs.\n",
    "\n",
    "\n",
    "* Semi-Structured Notes:\n",
    "\n",
    "These notes mirror how doctors organize their thoughts and observations during an encounter. They generally follow a SOAP format:\n",
    "\n",
    "* Subjective: The patient’s subjective description of their symptoms, feelings, and medical concerns.\n",
    "* Objective: The doctor’s objective findings, including test results, measurements, or physical examination outcomes.\n",
    "* Assessment: The doctor’s evaluation or diagnosis based on subjective and objective information.\n",
    "* Plan: The proposed treatment plan, including medications, follow-ups, or other interventions.\n",
    "\n",
    "While some encounter notes might include additional details, the majority conform to this semi-structured format, making them ideal for analysis and transformation.\n",
    "\n",
    "* Goals for the Assignment\n",
    "\n",
    "1. Transforming Encounter Notes:\n",
    "\n",
    "Using an LLM to convert semi-structured encounter notes into a JSON format that organizes the information into structured fields. The JSON will include details such as demographics, encounter specifics, and the SOAP components of the note. Subsequently, you will need to transform the JSON data into a Parquet file, which is not only suitable for analysis in Spark but also ideal for storage later.\n",
    "Here we will use the ML classificaition to assing the objective and assessment semi-structured fields into standardized, structured fields. The medical taxonomy for this task will be the one provided by the CDC, which defines standard codes for diagnoses, symptoms, procedures, and treatments. This step ensures the structured data aligns with domain-wide medical standards, making it interoperable and ready for deeper analysis.\n",
    "\n",
    "The JSON format should capture the hierachies described in the structure below. \n",
    "\n",
    "\n",
    "\n",
    "\n",
    "2. Basic Analytics and Visualizations:\n",
    "Using Apache Spark, perform comprehensive data analysis on the encounter data and create visualizations that reveal meaningful patterns. Your analysis must include:\n",
    "- COVID-19 Case Demographics: Case breakdown by age ranges ([0-5], [6-10], [11-17], [18-30], [31-50], [51-70], [71+])\n",
    "- Cumulative case count of Covid between the earliest case observed in the dataset and last case observed\n",
    "- Symptoms for all COVID-19 patients versus patients that admitted into the intensive care unit due to COVID.\n",
    "- Rank medications by frequency of prescription\n",
    "- Analyze medication patterns across different demographic groups (e.g., top 3 per age group)\n",
    "- Identify and plot co-morbidity information from the patient records (e.g., hypertension, obesity, prediabetes, etc.) provided in the dataset. \n",
    "- An independent group analysis: You need to develop and execute THREE original analyses that provide meaningful insights about COVID-19 patterns in this dataset. For each analysis:\n",
    "  - Clearly state your analytical question/hypothesis\n",
    "  - Justify why this analysis is valuable\n",
    "  - Show your Spark code and methodology\n",
    "  - Present results with appropriate visualizations\n"
   ]
  },
  {
   "cell_type": "markdown",
   "metadata": {
    "application/vnd.databricks.v1+cell": {
     "cellMetadata": {},
     "inputWidgets": {},
     "nuid": "7fd9495e-f243-492f-abb1-c3bb196ee963",
     "showTitle": false,
     "tableResultSettingsMap": {},
     "title": ""
    }
   },
   "source": [
    "## Part 2 - Basic Analytics and Visualizations"
   ]
  },
  {
   "cell_type": "markdown",
   "metadata": {
    "application/vnd.databricks.v1+cell": {
     "cellMetadata": {},
     "inputWidgets": {},
     "nuid": "f2244f46-a09a-4e4f-937d-bea363b79591",
     "showTitle": false,
     "tableResultSettingsMap": {},
     "title": ""
    }
   },
   "source": [
    "### Read in and set schema for json output"
   ]
  },
  {
   "cell_type": "code",
   "execution_count": 0,
   "metadata": {
    "application/vnd.databricks.v1+cell": {
     "cellMetadata": {
      "byteLimit": 2048000,
      "rowLimit": 10000
     },
     "inputWidgets": {},
     "nuid": "fa489882-65fa-4ce9-9224-28e4980471cd",
     "showTitle": false,
     "tableResultSettingsMap": {},
     "title": ""
    }
   },
   "outputs": [],
   "source": [
    "import json"
   ]
  },
  {
   "cell_type": "code",
   "execution_count": 0,
   "metadata": {
    "application/vnd.databricks.v1+cell": {
     "cellMetadata": {
      "byteLimit": 2048000,
      "rowLimit": 10000
     },
     "inputWidgets": {},
     "nuid": "d431f278-b297-4da7-9754-80641a7286b7",
     "showTitle": false,
     "tableResultSettingsMap": {},
     "title": ""
    }
   },
   "outputs": [
    {
     "output_type": "execute_result",
     "data": {
      "text/plain": [
       "True"
      ]
     },
     "execution_count": 27,
     "metadata": {},
     "output_type": "execute_result"
    }
   ],
   "source": [
    "dbutils.fs.cp(\"dbfs:/FileStore/tables/parsed_notes.jsonl\", \"file:///tmp/parsed_notes.jsonl\")"
   ]
  },
  {
   "cell_type": "code",
   "execution_count": 0,
   "metadata": {
    "application/vnd.databricks.v1+cell": {
     "cellMetadata": {
      "byteLimit": 2048000,
      "rowLimit": 10000
     },
     "inputWidgets": {},
     "nuid": "227837ba-ccd2-47e6-94a0-a4f76a052f3d",
     "showTitle": false,
     "tableResultSettingsMap": {},
     "title": ""
    }
   },
   "outputs": [
    {
     "output_type": "stream",
     "name": "stdout",
     "output_type": "stream",
     "text": [
      "JSON data loaded successfully.\n"
     ]
    }
   ],
   "source": [
    "# Read the JSONL file into a list of JSON objects\n",
    "json_data = [json.loads(line) for line in open('/tmp/parsed_notes.jsonl', 'r')]\n",
    "\n",
    "print(\"JSON data loaded successfully.\")"
   ]
  },
  {
   "cell_type": "code",
   "execution_count": 0,
   "metadata": {
    "application/vnd.databricks.v1+cell": {
     "cellMetadata": {
      "byteLimit": 2048000,
      "rowLimit": 10000
     },
     "inputWidgets": {},
     "nuid": "4eaa0012-a9d1-4022-93a5-10d694624bdc",
     "showTitle": false,
     "tableResultSettingsMap": {},
     "title": ""
    }
   },
   "outputs": [],
   "source": [
    "#json_data[0]"
   ]
  },
  {
   "cell_type": "markdown",
   "metadata": {
    "application/vnd.databricks.v1+cell": {
     "cellMetadata": {},
     "inputWidgets": {},
     "nuid": "d2f306b7-a63e-41ca-b123-9ee3e574bbf3",
     "showTitle": false,
     "tableResultSettingsMap": {},
     "title": ""
    }
   },
   "source": [
    "Set schema for json object"
   ]
  },
  {
   "cell_type": "code",
   "execution_count": 0,
   "metadata": {
    "application/vnd.databricks.v1+cell": {
     "cellMetadata": {
      "byteLimit": 2048000,
      "rowLimit": 10000
     },
     "inputWidgets": {},
     "nuid": "7dc84aae-93ae-4d7f-884f-eee963faceac",
     "showTitle": false,
     "tableResultSettingsMap": {},
     "title": ""
    }
   },
   "outputs": [],
   "source": [
    "from typing import List, Optional\n",
    "from pydantic import BaseModel\n",
    "from datetime import date\n",
    "\n",
    "\n",
    "class EncounterType(BaseModel):\n",
    "    code: str\n",
    "    description: str\n",
    "\n",
    "\n",
    "class Encounter(BaseModel):\n",
    "    date: str\n",
    "    time: str\n",
    "    provider_id: str\n",
    "    facility_id: str\n",
    "\n",
    "\n",
    "class Address(BaseModel):\n",
    "    city: str\n",
    "    state: str\n",
    "\n",
    "\n",
    "class Demographics(BaseModel):\n",
    "    name: str\n",
    "    date_of_birth: str\n",
    "    age: int\n",
    "    gender: str\n",
    "    address: Address\n",
    "    insurance: str\n",
    "\n",
    "\n",
    "class Condition(BaseModel):\n",
    "    code: str\n",
    "    description: str\n",
    "\n",
    "\n",
    "class Medication(BaseModel):\n",
    "    code: str\n",
    "    description: str\n",
    "\n",
    "\n",
    "class Immunization(BaseModel):\n",
    "    code: str\n",
    "    description: str\n",
    "    date: str\n",
    "\n",
    "\n",
    "class VitalMeasurement(BaseModel):\n",
    "    code: str\n",
    "    value: float\n",
    "    unit: str\n",
    "\n",
    "\n",
    "class BloodPressure(BaseModel):\n",
    "    systolic: Optional[VitalMeasurement]\n",
    "    diastolic: Optional[VitalMeasurement]\n",
    "\n",
    "\n",
    "class CurrentVitals(BaseModel):\n",
    "    temperature: Optional[VitalMeasurement] = None\n",
    "    heart_rate: Optional[VitalMeasurement] = None\n",
    "    blood_pressure: Optional[BloodPressure] = None\n",
    "    respiratory_rate: Optional[VitalMeasurement] = None\n",
    "    oxygen_saturation: Optional[VitalMeasurement] = None\n",
    "    weight: Optional[VitalMeasurement] = None\n",
    "\n",
    "\n",
    "class BaselineVitals(BaseModel):\n",
    "    date: str\n",
    "    height: Optional[VitalMeasurement] = None\n",
    "    weight: Optional[VitalMeasurement] = None\n",
    "    bmi: Optional[VitalMeasurement] = None\n",
    "    bmi_percentile: Optional[VitalMeasurement] = None\n",
    "\n",
    "\n",
    "class Vitals(BaseModel):\n",
    "    current: Optional[CurrentVitals]\n",
    "    baseline: Optional[BaselineVitals]\n",
    "\n",
    "\n",
    "class RespiratoryTest(BaseModel):\n",
    "    code: str\n",
    "    result: str\n",
    "\n",
    "\n",
    "class RespiratoryPanel(BaseModel):\n",
    "    influenza_a: Optional[RespiratoryTest] = None\n",
    "    influenza_b: Optional[RespiratoryTest] = None\n",
    "    rsv: Optional[RespiratoryTest] = None\n",
    "    parainfluenza_1: Optional[RespiratoryTest] = None\n",
    "    parainfluenza_2: Optional[RespiratoryTest] = None\n",
    "    parainfluenza_3: Optional[RespiratoryTest] = None\n",
    "    rhinovirus: Optional[RespiratoryTest] = None\n",
    "    metapneumovirus: Optional[RespiratoryTest] = None\n",
    "    adenovirus: Optional[RespiratoryTest] = None\n",
    "\n",
    "\n",
    "class Covid19Test(BaseModel):\n",
    "    code: str\n",
    "    description: str\n",
    "    result: str\n",
    "\n",
    "\n",
    "class Laboratory(BaseModel):\n",
    "    covid19: Optional[Covid19Test] = None\n",
    "    respiratory_panel: Optional[RespiratoryPanel] = None\n",
    "\n",
    "\n",
    "class Procedure(BaseModel):\n",
    "    code: str\n",
    "    description: str\n",
    "    date: str\n",
    "    reasonCode: str\n",
    "    reasonDescription: str\n",
    "\n",
    "\n",
    "class CarePlan(BaseModel):\n",
    "    code: str\n",
    "    description: str\n",
    "    start: str\n",
    "    stop: str\n",
    "    reasonCode: str\n",
    "    reasonDescription: str\n",
    "\n",
    "\n",
    "class PatientRecord(BaseModel):\n",
    "    demographics: Demographics\n",
    "    encounter: Optional[Encounter] = None\n",
    "    conditions: Optional[List[Condition]] = None\n",
    "    medications: Optional[List[Medication]] = None\n",
    "    immunizations: Optional[List[Immunization]] = None\n",
    "    vitals: Optional[Vitals] = None\n",
    "    laboratory: Optional[Laboratory] = None\n",
    "    procedures: Optional[List[Procedure]] = None\n"
   ]
  },
  {
   "cell_type": "code",
   "execution_count": 0,
   "metadata": {
    "application/vnd.databricks.v1+cell": {
     "cellMetadata": {
      "byteLimit": 2048000,
      "rowLimit": 10000
     },
     "inputWidgets": {},
     "nuid": "0ac1d484-a03d-48a9-a6ef-4aee0d884f31",
     "showTitle": false,
     "tableResultSettingsMap": {},
     "title": ""
    }
   },
   "outputs": [],
   "source": [
    "import json\n",
    "from typing import List\n",
    "import pandas as pd\n",
    "from pydantic import ValidationError"
   ]
  },
  {
   "cell_type": "code",
   "execution_count": 0,
   "metadata": {
    "application/vnd.databricks.v1+cell": {
     "cellMetadata": {
      "byteLimit": 2048000,
      "rowLimit": 10000
     },
     "inputWidgets": {},
     "nuid": "592bdaa4-01d0-4ddb-801f-397465c7a848",
     "showTitle": false,
     "tableResultSettingsMap": {},
     "title": ""
    }
   },
   "outputs": [],
   "source": [
    "def flatten_patient_data(record: PatientRecord):\n",
    "    flat_data = {\n",
    "        \"name\": record.demographics.name,\n",
    "        \"date_of_birth\": record.demographics.date_of_birth,\n",
    "        \"age\": record.demographics.age,\n",
    "        \"gender\": record.demographics.gender,\n",
    "        \"city\": record.demographics.address.city,\n",
    "        \"state\": record.demographics.address.state,\n",
    "        \"insurance\": record.demographics.insurance,\n",
    "        \"encounter_date\": record.encounter.date if record.encounter else None,\n",
    "        \"encounter_time\": record.encounter.time if record.encounter else None,\n",
    "        \"provider_id\": record.encounter.provider_id if record.encounter else None,\n",
    "        \"facility_id\": record.encounter.facility_id if record.encounter else None,\n",
    "        \"conditions\": [cond.description for cond in record.conditions] if record.conditions else None,\n",
    "        \"medications\": [med.description for med in record.medications] if record.medications else None,\n",
    "        \"temperature\": record.vitals.current.temperature.value if record.vitals and record.vitals.current and record.vitals.current.temperature else None,\n",
    "        \"covid_test_result\": record.laboratory.covid19.result if record.laboratory and record.laboratory.covid19 else None,\n",
    "        \"procedures\": [proc.description for proc in record.procedures] if record.procedures else None,\n",
    "    }\n",
    "    return flat_data"
   ]
  },
  {
   "cell_type": "code",
   "execution_count": 0,
   "metadata": {
    "application/vnd.databricks.v1+cell": {
     "cellMetadata": {
      "byteLimit": 2048000,
      "rowLimit": 10000
     },
     "inputWidgets": {},
     "nuid": "0c56859a-1d1f-44e7-aaf3-9206659c6179",
     "showTitle": false,
     "tableResultSettingsMap": {},
     "title": ""
    }
   },
   "outputs": [
    {
     "output_type": "stream",
     "name": "stdout",
     "output_type": "stream",
     "text": [
      "Data successfully saved to Parquet\n"
     ]
    }
   ],
   "source": [
    "import json\n",
    "from pydantic import ValidationError\n",
    "\n",
    "# Step 1: Read the JSONL file and parse each line\n",
    "patient_records = []\n",
    "\n",
    "with open('/tmp/parsed_notes.jsonl', 'r') as f:\n",
    "    for line in f:\n",
    "        line = line.strip()  # Remove whitespace and newline\n",
    "        if not line:\n",
    "            continue\n",
    "\n",
    "        try:\n",
    "            # Parse the JSON string into a dictionary\n",
    "            json_data = json.loads(line)\n",
    "            \n",
    "            # Step 2: Convert the JSON data to a Pydantic PatientRecord instance\n",
    "            patient_record = PatientRecord(**json_data)\n",
    "            \n",
    "            # Flatten data to prepare it for a Pandas DataFrame\n",
    "            flat_data = flatten_patient_data(patient_record)\n",
    "            patient_records.append(flat_data)\n",
    "\n",
    "        except ValidationError as e:\n",
    "            print(f\"Validation Error for a record: {e}\")\n",
    "\n",
    "# Step 3: Convert to a Pandas DataFrame and save it to a Parquet file\n",
    "import pandas as pd\n",
    "\n",
    "df = pd.DataFrame(patient_records)\n",
    "df.to_parquet(\"///tmp/patient_record.parquet\", index=False)\n",
    "\n",
    "print(\"Data successfully saved to Parquet\")\n"
   ]
  },
  {
   "cell_type": "code",
   "execution_count": 0,
   "metadata": {
    "application/vnd.databricks.v1+cell": {
     "cellMetadata": {
      "byteLimit": 2048000,
      "rowLimit": 10000
     },
     "inputWidgets": {},
     "nuid": "3f176f31-deb8-47a1-bb37-f0d26abd0cb5",
     "showTitle": false,
     "tableResultSettingsMap": {},
     "title": ""
    }
   },
   "outputs": [
    {
     "output_type": "execute_result",
     "data": {
      "text/html": [
       "<div>\n",
       "<style scoped>\n",
       "    .dataframe tbody tr th:only-of-type {\n",
       "        vertical-align: middle;\n",
       "    }\n",
       "\n",
       "    .dataframe tbody tr th {\n",
       "        vertical-align: top;\n",
       "    }\n",
       "\n",
       "    .dataframe thead th {\n",
       "        text-align: right;\n",
       "    }\n",
       "</style>\n",
       "<table border=\"1\" class=\"dataframe\">\n",
       "  <thead>\n",
       "    <tr style=\"text-align: right;\">\n",
       "      <th></th>\n",
       "      <th>name</th>\n",
       "      <th>date_of_birth</th>\n",
       "      <th>age</th>\n",
       "      <th>gender</th>\n",
       "      <th>city</th>\n",
       "      <th>state</th>\n",
       "      <th>insurance</th>\n",
       "      <th>encounter_date</th>\n",
       "      <th>encounter_time</th>\n",
       "      <th>provider_id</th>\n",
       "      <th>facility_id</th>\n",
       "      <th>conditions</th>\n",
       "      <th>medications</th>\n",
       "      <th>temperature</th>\n",
       "      <th>covid_test_result</th>\n",
       "      <th>procedures</th>\n",
       "    </tr>\n",
       "  </thead>\n",
       "  <tbody>\n",
       "    <tr>\n",
       "      <th>0</th>\n",
       "      <td>Elmer Schinner</td>\n",
       "      <td>1993-06-16</td>\n",
       "      <td>31</td>\n",
       "      <td>M</td>\n",
       "      <td>Boston</td>\n",
       "      <td>Massachusetts</td>\n",
       "      <td>Self</td>\n",
       "      <td>2020-03-18</td>\n",
       "      <td>21:03:20</td>\n",
       "      <td>b8a245a1-de55-3ff1-ad90-633d8411c1c5</td>\n",
       "      <td>3278c48a-aff0-3325-ba4a-5bb3eae5304c</td>\n",
       "      <td>[Cough (finding), Dyspnea (finding), Wheezing ...</td>\n",
       "      <td>[0.4 ML Enoxaparin sodium 100 MG/ML Prefilled ...</td>\n",
       "      <td>38.1</td>\n",
       "      <td>Detected (qualifier value)</td>\n",
       "      <td>[Face mask (physical object), Plain chest X-ra...</td>\n",
       "    </tr>\n",
       "    <tr>\n",
       "      <th>1</th>\n",
       "      <td>Albert Kshleri</td>\n",
       "      <td>2013-05-31</td>\n",
       "      <td>11</td>\n",
       "      <td>M</td>\n",
       "      <td>Chelsea</td>\n",
       "      <td>Massachusetts</td>\n",
       "      <td>Self</td>\n",
       "      <td>2020-05-22</td>\n",
       "      <td>20:59:35</td>\n",
       "      <td>2c6b08cf-0e34-37bf-9447-2823cc00073e</td>\n",
       "      <td>2a4518d8-7014-3404-b2e9-1c30c76b6a12</td>\n",
       "      <td>[Cough (finding), Dyspnea (finding), Wheezing ...</td>\n",
       "      <td>None</td>\n",
       "      <td>39.2</td>\n",
       "      <td>Detected (qualifier value)</td>\n",
       "      <td>[Face mask (physical object)]</td>\n",
       "    </tr>\n",
       "  </tbody>\n",
       "</table>\n",
       "</div>"
      ],
      "text/plain": [
       "             name  ...                                         procedures\n",
       "0  Elmer Schinner  ...  [Face mask (physical object), Plain chest X-ra...\n",
       "1  Albert Kshleri  ...                      [Face mask (physical object)]\n",
       "\n",
       "[2 rows x 16 columns]"
      ]
     },
     "execution_count": 41,
     "metadata": {},
     "output_type": "execute_result"
    }
   ],
   "source": [
    "df.head(2)"
   ]
  },
  {
   "cell_type": "code",
   "execution_count": 0,
   "metadata": {
    "application/vnd.databricks.v1+cell": {
     "cellMetadata": {
      "byteLimit": 2048000,
      "rowLimit": 10000
     },
     "inputWidgets": {},
     "nuid": "8adea425-bb58-456f-975b-20fef311e0da",
     "showTitle": false,
     "tableResultSettingsMap": {},
     "title": ""
    }
   },
   "outputs": [
    {
     "output_type": "execute_result",
     "data": {
      "text/plain": [
       "True"
      ]
     },
     "execution_count": 42,
     "metadata": {},
     "output_type": "execute_result"
    }
   ],
   "source": [
    "dbutils.fs.cp(\"file:///tmp/patient_record.parquet\", \"dbfs:/FileStore/tables/patient_record.parquet\")"
   ]
  },
  {
   "cell_type": "markdown",
   "metadata": {
    "application/vnd.databricks.v1+cell": {
     "cellMetadata": {},
     "inputWidgets": {},
     "nuid": "d249a4c9-f14c-47d9-a5fb-12b5354a8bbb",
     "showTitle": false,
     "tableResultSettingsMap": {},
     "title": ""
    }
   },
   "source": [
    "## Analysis"
   ]
  },
  {
   "cell_type": "code",
   "execution_count": 0,
   "metadata": {
    "application/vnd.databricks.v1+cell": {
     "cellMetadata": {
      "byteLimit": 2048000,
      "rowLimit": 10000
     },
     "inputWidgets": {},
     "nuid": "e77654f5-e17c-437d-89d6-0afea4921151",
     "showTitle": false,
     "tableResultSettingsMap": {},
     "title": ""
    }
   },
   "outputs": [
    {
     "output_type": "stream",
     "name": "stdout",
     "output_type": "stream",
     "text": [
      "+--------------+-------------+---+------+-------+-------------+---------+--------------+--------------+--------------------+--------------------+--------------------+--------------------+-----------+--------------------+--------------------+\n|          name|date_of_birth|age|gender|   city|        state|insurance|encounter_date|encounter_time|         provider_id|         facility_id|          conditions|         medications|temperature|   covid_test_result|          procedures|\n+--------------+-------------+---+------+-------+-------------+---------+--------------+--------------+--------------------+--------------------+--------------------+--------------------+-----------+--------------------+--------------------+\n|Elmer Schinner|   1993-06-16| 31|     M| Boston|Massachusetts|     Self|    2020-03-18|      21:03:20|b8a245a1-de55-3ff...|3278c48a-aff0-332...|[Cough (finding),...|[0.4 ML Enoxapari...|       38.1|Detected (qualifi...|[Face mask (physi...|\n|Albert Kshleri|   2013-05-31| 11|     M|Chelsea|Massachusetts|     Self|    2020-05-22|      20:59:35|2c6b08cf-0e34-37b...|2a4518d8-7014-340...|[Cough (finding),...|                NULL|       39.2|Detected (qualifi...|[Face mask (physi...|\n+--------------+-------------+---+------+-------+-------------+---------+--------------+--------------+--------------------+--------------------+--------------------+--------------------+-----------+--------------------+--------------------+\nonly showing top 2 rows\n\n"
     ]
    }
   ],
   "source": [
    "# Load data from the Parquet file\n",
    "parquet_df = spark.read.parquet('dbfs:/FileStore/tables/patient_record.parquet')\n",
    "\n",
    "# Show the first few rows\n",
    "parquet_df.show(2)\n"
   ]
  },
  {
   "cell_type": "markdown",
   "metadata": {
    "application/vnd.databricks.v1+cell": {
     "cellMetadata": {},
     "inputWidgets": {},
     "nuid": "c45ca5ca-7abf-4769-89d8-1bdaf12670f6",
     "showTitle": false,
     "tableResultSettingsMap": {},
     "title": ""
    }
   },
   "source": [
    "### COVID-19 Case Demographics: Case breakdown by age ranges ([0-5], [6-10], [11-17], [18-30], [31-50], [51-70], [71+])"
   ]
  },
  {
   "cell_type": "code",
   "execution_count": 0,
   "metadata": {
    "application/vnd.databricks.v1+cell": {
     "cellMetadata": {
      "byteLimit": 2048000,
      "rowLimit": 10000
     },
     "inputWidgets": {},
     "nuid": "8a479117-4969-4d8b-aea4-3d3a54fba9b6",
     "showTitle": false,
     "tableResultSettingsMap": {},
     "title": ""
    }
   },
   "outputs": [],
   "source": [
    "from pyspark.sql.functions import col, when\n",
    "\n",
    "# Categorize age into predefined age ranges\n",
    "parquet_df = parquet_df.withColumn(\n",
    "    \"age_range\",\n",
    "    when(col(\"age\") <= 5, \"[0-5]\")\n",
    "    .when(col(\"age\") <= 10, \"[6-10]\")\n",
    "    .when(col(\"age\") <= 17, \"[11-17]\")\n",
    "    .when(col(\"age\") <= 30, \"[18-30]\")\n",
    "    .when(col(\"age\") <= 50, \"[31-50]\")\n",
    "    .when(col(\"age\") <= 70, \"[51-70]\")\n",
    "    .otherwise(\"[71+]\")\n",
    ")"
   ]
  },
  {
   "cell_type": "code",
   "execution_count": 0,
   "metadata": {
    "application/vnd.databricks.v1+cell": {
     "cellMetadata": {
      "byteLimit": 2048000,
      "rowLimit": 10000
     },
     "inputWidgets": {},
     "nuid": "594f50a1-7c50-471e-94ed-14e889227bdd",
     "showTitle": false,
     "tableResultSettingsMap": {},
     "title": ""
    }
   },
   "outputs": [
    {
     "output_type": "stream",
     "name": "stdout",
     "output_type": "stream",
     "text": [
      "+---------+-----+\n|age_range|count|\n+---------+-----+\n|    [0-5]|   25|\n|  [11-17]|  126|\n|  [18-30]|  320|\n|  [31-50]|  436|\n|  [51-70]|  508|\n|   [6-10]|   95|\n|    [71+]|  489|\n+---------+-----+\n\n"
     ]
    }
   ],
   "source": [
    "# Count the number of cases for each age range\n",
    "age_counts = (\n",
    "    parquet_df.groupBy(\"age_range\")\n",
    "    .count()\n",
    "    .orderBy(\"age_range\")\n",
    ")\n",
    "\n",
    "# Show the results\n",
    "age_counts.show()"
   ]
  },
  {
   "cell_type": "markdown",
   "metadata": {
    "application/vnd.databricks.v1+cell": {
     "cellMetadata": {},
     "inputWidgets": {},
     "nuid": "076f6d42-d6fd-4089-b6b3-6c9f9e125ced",
     "showTitle": false,
     "tableResultSettingsMap": {},
     "title": ""
    }
   },
   "source": [
    "### Cumulative case count of Covid between the earliest case observed in the dataset and last case observed"
   ]
  },
  {
   "cell_type": "code",
   "execution_count": 0,
   "metadata": {
    "application/vnd.databricks.v1+cell": {
     "cellMetadata": {
      "byteLimit": 2048000,
      "rowLimit": 10000
     },
     "inputWidgets": {},
     "nuid": "324284fd-a0d1-4b6f-8dc9-a4b444b57963",
     "showTitle": false,
     "tableResultSettingsMap": {},
     "title": ""
    }
   },
   "outputs": [
    {
     "output_type": "execute_result",
     "data": {
      "text/plain": [
       "[Row(covid_test_result=None),\n",
       " Row(covid_test_result='Not detected (qualifier value)'),\n",
       " Row(covid_test_result='Detected (qualifier value)')]"
      ]
     },
     "execution_count": 5,
     "metadata": {},
     "output_type": "execute_result"
    }
   ],
   "source": [
    "results = parquet_df.select(\"covid_test_result\").distinct().collect()\n",
    "results"
   ]
  },
  {
   "cell_type": "code",
   "execution_count": 0,
   "metadata": {
    "application/vnd.databricks.v1+cell": {
     "cellMetadata": {
      "byteLimit": 2048000,
      "rowLimit": 10000
     },
     "inputWidgets": {},
     "nuid": "675e334c-3149-4df5-bce7-80032d89769d",
     "showTitle": false,
     "tableResultSettingsMap": {},
     "title": ""
    }
   },
   "outputs": [
    {
     "output_type": "stream",
     "name": "stdout",
     "output_type": "stream",
     "text": [
      "The cumlative case count of Covid is 1172\n"
     ]
    }
   ],
   "source": [
    "positives = parquet_df.select(\"covid_test_result\").where(parquet_df.covid_test_result == \"Detected (qualifier value)\")\n",
    "print(f'The cumlative case count of Covid is {positives.count()}')"
   ]
  },
  {
   "cell_type": "markdown",
   "metadata": {
    "application/vnd.databricks.v1+cell": {
     "cellMetadata": {},
     "inputWidgets": {},
     "nuid": "b1de2b6d-8e82-43dd-8358-9753e73b80ad",
     "showTitle": false,
     "tableResultSettingsMap": {},
     "title": ""
    }
   },
   "source": [
    "### Symptoms for all COVID-19 patients versus patients that admitted into the intensive care unit due to COVID. (ignore this question)"
   ]
  },
  {
   "cell_type": "markdown",
   "metadata": {
    "application/vnd.databricks.v1+cell": {
     "cellMetadata": {},
     "inputWidgets": {},
     "nuid": "f12008dd-b909-46c5-b933-936cd347b4e0",
     "showTitle": false,
     "tableResultSettingsMap": {},
     "title": ""
    }
   },
   "source": [
    "### Rank medications by frequency of prescription"
   ]
  },
  {
   "cell_type": "code",
   "execution_count": 0,
   "metadata": {
    "application/vnd.databricks.v1+cell": {
     "cellMetadata": {
      "byteLimit": 2048000,
      "rowLimit": 10000
     },
     "inputWidgets": {},
     "nuid": "276c62e9-dfc9-4878-b574-b984f9a52272",
     "showTitle": false,
     "tableResultSettingsMap": {},
     "title": ""
    }
   },
   "outputs": [
    {
     "output_type": "execute_result",
     "data": {
      "text/plain": [
       "[Row(medications=['0.4 ML Enoxaparin sodium 100 MG/ML Prefilled Syringe', 'NDA020503 200 ACTUAT Albuterol 0.09 MG/ACTUAT Metered Dose Inhaler', 'Acetaminophen 500 MG Oral Tablet', '1 ML Enoxaparin sodium 150 MG/ML Prefilled Syringe'])]"
      ]
     },
     "execution_count": 9,
     "metadata": {},
     "output_type": "execute_result"
    }
   ],
   "source": [
    "medications = parquet_df.select(\"medications\")\n",
    "example = medications.take(1)\n",
    "example"
   ]
  },
  {
   "cell_type": "markdown",
   "metadata": {
    "application/vnd.databricks.v1+cell": {
     "cellMetadata": {},
     "inputWidgets": {},
     "nuid": "5edb4f66-3e27-4706-9df7-eb17ce1a9110",
     "showTitle": false,
     "tableResultSettingsMap": {},
     "title": ""
    }
   },
   "source": [
    "Because the medications are in a list, we will explode the column so that there is one row for each medication"
   ]
  },
  {
   "cell_type": "code",
   "execution_count": 0,
   "metadata": {
    "application/vnd.databricks.v1+cell": {
     "cellMetadata": {
      "byteLimit": 2048000,
      "rowLimit": 10000
     },
     "inputWidgets": {},
     "nuid": "dc8325f0-6c43-4a6a-b8ae-193e059214fe",
     "showTitle": false,
     "tableResultSettingsMap": {},
     "title": ""
    }
   },
   "outputs": [
    {
     "output_type": "stream",
     "name": "stdout",
     "output_type": "stream",
     "text": [
      "+--------------------+\n|          medication|\n+--------------------+\n|0.4 ML Enoxaparin...|\n|NDA020503 200 ACT...|\n|Acetaminophen 500...|\n|1 ML Enoxaparin s...|\n|0.4 ML Enoxaparin...|\n+--------------------+\nonly showing top 5 rows\n\n"
     ]
    }
   ],
   "source": [
    "from pyspark.sql.functions import explode\n",
    "exploded_df = parquet_df.withColumn(\"medication\", explode(col(\"medications\")))\n",
    "exploded_df.select(\"medication\").show(5)"
   ]
  },
  {
   "cell_type": "code",
   "execution_count": 0,
   "metadata": {
    "application/vnd.databricks.v1+cell": {
     "cellMetadata": {},
     "inputWidgets": {},
     "nuid": "35187d18-7c43-4b38-84af-71fdfef15495",
     "showTitle": false,
     "tableResultSettingsMap": {},
     "title": ""
    }
   },
   "outputs": [],
   "source": []
  },
  {
   "cell_type": "markdown",
   "metadata": {
    "application/vnd.databricks.v1+cell": {
     "cellMetadata": {},
     "inputWidgets": {},
     "nuid": "bb9857bb-af24-4251-8672-7f703ba1753e",
     "showTitle": false,
     "tableResultSettingsMap": {},
     "title": ""
    }
   },
   "source": [
    "Now we can count up the frequency of each medication"
   ]
  },
  {
   "cell_type": "code",
   "execution_count": 0,
   "metadata": {
    "application/vnd.databricks.v1+cell": {
     "cellMetadata": {
      "byteLimit": 2048000,
      "rowLimit": 10000
     },
     "inputWidgets": {},
     "nuid": "8461fb7c-aa37-4562-9698-01d813be2673",
     "showTitle": false,
     "tableResultSettingsMap": {},
     "title": ""
    }
   },
   "outputs": [
    {
     "output_type": "stream",
     "name": "stdout",
     "output_type": "stream",
     "text": [
      "+--------------------+-----+\n|          medication|count|\n+--------------------+-----+\n|Acetaminophen 500...|  302|\n|0.4 ML Enoxaparin...|  291|\n|1 ML Epoetin Alfa...|  214|\n|1 ML Enoxaparin s...|  174|\n|NDA020503 200 ACT...|  165|\n|insulin human  is...|   88|\n|Simvastatin 10 MG...|   83|\n|Hydrochlorothiazi...|   82|\n|24 HR Metformin h...|   69|\n|amLODIPine 5 MG /...|   52|\n+--------------------+-----+\nonly showing top 10 rows\n\n"
     ]
    }
   ],
   "source": [
    "from pyspark.sql.functions import col\n",
    "\n",
    "medication_counts = exploded_df.groupBy(\"medication\").count()\n",
    "medication_counts_sorted = medication_counts.orderBy(col(\"count\").desc())\n",
    "medication_counts_sorted.show(10)"
   ]
  },
  {
   "cell_type": "markdown",
   "metadata": {
    "application/vnd.databricks.v1+cell": {
     "cellMetadata": {},
     "inputWidgets": {},
     "nuid": "08bc2258-e184-47e3-8ff9-8dc2b37995f9",
     "showTitle": false,
     "tableResultSettingsMap": {},
     "title": ""
    }
   },
   "source": [
    "### Analyze medication patterns across different demographic groups (e.g., top 3 per age group)\n"
   ]
  },
  {
   "cell_type": "markdown",
   "metadata": {
    "application/vnd.databricks.v1+cell": {
     "cellMetadata": {},
     "inputWidgets": {},
     "nuid": "599908ae-4773-4d69-83a3-f3364652b9d9",
     "showTitle": false,
     "tableResultSettingsMap": {},
     "title": ""
    }
   },
   "source": [
    "Since we already created an age croup column in an above question, we can use this to get the top 3 medications per age group."
   ]
  },
  {
   "cell_type": "code",
   "execution_count": 0,
   "metadata": {
    "application/vnd.databricks.v1+cell": {
     "cellMetadata": {
      "byteLimit": 2048000,
      "rowLimit": 10000
     },
     "inputWidgets": {},
     "nuid": "bfb4566e-7b11-4280-91ea-5976fb940bf3",
     "showTitle": false,
     "tableResultSettingsMap": {},
     "title": ""
    }
   },
   "outputs": [
    {
     "output_type": "stream",
     "name": "stdout",
     "output_type": "stream",
     "text": [
      "+---------+--------------------+-----+\n|age_range|          medication|count|\n+---------+--------------------+-----+\n|   [6-10]|cetirizine hydroc...|    2|\n|   [6-10]|Clopidogrel 75 MG...|    1|\n|    [71+]|amLODIPine 5 MG /...|   13|\n|  [51-70]|Mirena 52 MG Intr...|    2|\n|  [51-70]|Amlodipine 5 MG O...|    8|\n+---------+--------------------+-----+\nonly showing top 5 rows\n\n"
     ]
    }
   ],
   "source": [
    "medications_in_groups = exploded_df.groupBy(\"age_range\", \"medication\").count()\n",
    "medications_in_groups.show(5)"
   ]
  },
  {
   "cell_type": "markdown",
   "metadata": {
    "application/vnd.databricks.v1+cell": {
     "cellMetadata": {},
     "inputWidgets": {},
     "nuid": "ac97448a-ff19-48ee-b71d-7f664df556bb",
     "showTitle": false,
     "tableResultSettingsMap": {},
     "title": ""
    }
   },
   "source": [
    "Now we can create partitions over each age_range and then use a window to order each partition by count. Then we can extract the top 3 medications by frequency for each age group."
   ]
  },
  {
   "cell_type": "code",
   "execution_count": 0,
   "metadata": {
    "application/vnd.databricks.v1+cell": {
     "cellMetadata": {
      "byteLimit": 2048000,
      "rowLimit": 10000
     },
     "inputWidgets": {},
     "nuid": "28ad44a3-de1b-43e8-8db6-ab7c6a15cf19",
     "showTitle": false,
     "tableResultSettingsMap": {},
     "title": ""
    }
   },
   "outputs": [
    {
     "output_type": "stream",
     "name": "stdout",
     "output_type": "stream",
     "text": [
      "+---------+--------------------+-----+----------+\n|age_range|          medication|count|row_number|\n+---------+--------------------+-----+----------+\n|    [0-5]|Ibuprofen 100 MG ...|    3|         1|\n|    [0-5]|1 ML Enoxaparin s...|    1|         2|\n|    [0-5]|Acetaminophen 21....|    1|         3|\n|  [11-17]|NDA020503 200 ACT...|   14|         1|\n|  [11-17]|120 ACTUAT Flutic...|   11|         2|\n|  [11-17]|Acetaminophen 500...|    9|         3|\n|  [18-30]|Acetaminophen 500...|   35|         1|\n|  [18-30]|0.4 ML Enoxaparin...|   34|         2|\n|  [18-30]|1 ML Enoxaparin s...|   21|         3|\n|  [31-50]|Acetaminophen 500...|   63|         1|\n|  [31-50]|0.4 ML Enoxaparin...|   62|         2|\n|  [31-50]|NDA020503 200 ACT...|   32|         3|\n+---------+--------------------+-----+----------+\nonly showing top 12 rows\n\n"
     ]
    }
   ],
   "source": [
    "from pyspark.sql.window import Window\n",
    "from pyspark.sql.functions import row_number, col\n",
    "\n",
    "# Define the window with partitionsby age_range and ordered by count\n",
    "window = Window.partitionBy(\"age_range\").orderBy(col(\"count\").desc())\n",
    "\n",
    "# add row_number column\n",
    "medication_age_range = medications_in_groups.withColumn(\"row_number\", row_number().over(window))\n",
    "\n",
    "# Filter to keep only rows with row_number <= 3\n",
    "top_3_medications_per_age_range = medication_age_range.filter(col(\"row_number\") <= 3)\n",
    "\n",
    "# Show the results\n",
    "top_3_medications_per_age_range.show(12)\n"
   ]
  },
  {
   "cell_type": "markdown",
   "metadata": {
    "application/vnd.databricks.v1+cell": {
     "cellMetadata": {},
     "inputWidgets": {},
     "nuid": "3540972c-0e81-464a-8b11-f1cfbe290348",
     "showTitle": false,
     "tableResultSettingsMap": {},
     "title": ""
    }
   },
   "source": [
    "\n",
    "We use row_number since this ensure no ties in the ranking and no skipping of rank. That means for ties, I elected to leave it up to chance on which medicine gets the spot"
   ]
  },
  {
   "cell_type": "markdown",
   "metadata": {
    "application/vnd.databricks.v1+cell": {
     "cellMetadata": {},
     "inputWidgets": {},
     "nuid": "9da032fb-5e4e-4273-8299-49a8712430ac",
     "showTitle": false,
     "tableResultSettingsMap": {},
     "title": ""
    }
   },
   "source": [
    "### Identify and plot co-morbidity information from the patient records (e.g., hypertension, obesity, prediabetes, etc.) provided in the dataset."
   ]
  },
  {
   "cell_type": "markdown",
   "metadata": {
    "application/vnd.databricks.v1+cell": {
     "cellMetadata": {},
     "inputWidgets": {},
     "nuid": "dd94ac74-1d80-47b8-b03b-681cffc2332f",
     "showTitle": false,
     "tableResultSettingsMap": {},
     "title": ""
    }
   },
   "source": [
    "We can print a row to find the field that will give us co-morbidity information"
   ]
  },
  {
   "cell_type": "code",
   "execution_count": 0,
   "metadata": {
    "application/vnd.databricks.v1+cell": {
     "cellMetadata": {
      "byteLimit": 2048000,
      "rowLimit": 10000
     },
     "inputWidgets": {},
     "nuid": "3d0b6b3d-955e-4d95-b48e-fb39fdeec5c5",
     "showTitle": false,
     "tableResultSettingsMap": {},
     "title": ""
    }
   },
   "outputs": [
    {
     "output_type": "stream",
     "name": "stdout",
     "output_type": "stream",
     "text": [
      "[\n    {\n        \"name\": \"Elmer Schinner\",\n        \"date_of_birth\": \"1993-06-16\",\n        \"age\": 31,\n        \"gender\": \"M\",\n        \"city\": \"Boston\",\n        \"state\": \"Massachusetts\",\n        \"insurance\": \"Self\",\n        \"encounter_date\": \"2020-03-18\",\n        \"encounter_time\": \"21:03:20\",\n        \"provider_id\": \"b8a245a1-de55-3ff1-ad90-633d8411c1c5\",\n        \"facility_id\": \"3278c48a-aff0-3325-ba4a-5bb3eae5304c\",\n        \"conditions\": [\n            \"Cough (finding)\",\n            \"Dyspnea (finding)\",\n            \"Wheezing (finding)\",\n            \"Diarrhea symptom (finding)\",\n            \"Fever (finding)\",\n            \"Loss of taste (finding)\",\n            \"Suspected COVID-19\",\n            \"COVID-19\",\n            \"Pneumonia (disorder)\",\n            \"Hypoxemia (disorder)\",\n            \"Respiratory distress (finding)\",\n            \"Acute respiratory failure (disorder)\",\n            \"Sepsis caused by virus (disorder)\",\n            \"Acute pulmonary embolism (disorder)\"\n        ],\n        \"medications\": [\n            \"0.4 ML Enoxaparin sodium 100 MG/ML Prefilled Syringe\",\n            \"NDA020503 200 ACTUAT Albuterol 0.09 MG/ACTUAT Metered Dose Inhaler\",\n            \"Acetaminophen 500 MG Oral Tablet\",\n            \"1 ML Enoxaparin sodium 150 MG/ML Prefilled Syringe\"\n        ],\n        \"temperature\": 38.1,\n        \"covid_test_result\": \"Detected (qualifier value)\",\n        \"procedures\": [\n            \"Face mask (physical object)\",\n            \"Plain chest X-ray (procedure)\",\n            \"Oxygen administration by mask (procedure)\",\n            \"Placing subject in prone position (procedure)\",\n            \"Oxygen administration by mask (procedure)\",\n            \"Placing subject in prone position (procedure)\",\n            \"Oxygen administration by mask (procedure)\",\n            \"Placing subject in prone position (procedure)\",\n            \"Oxygen administration by mask (procedure)\",\n            \"Placing subject in prone position (procedure)\",\n            \"Oxygen administration by mask (procedure)\",\n            \"Placing subject in prone position (procedure)\",\n            \"Oxygen administration by mask (procedure)\",\n            \"Placing subject in prone position (procedure)\",\n            \"Oxygen administration by mask (procedure)\",\n            \"Placing subject in prone position (procedure)\"\n        ],\n        \"age_range\": \"[31-50]\"\n    },\n    {\n        \"name\": \"Albert Kshleri\",\n        \"date_of_birth\": \"2013-05-31\",\n        \"age\": 11,\n        \"gender\": \"M\",\n        \"city\": \"Chelsea\",\n        \"state\": \"Massachusetts\",\n        \"insurance\": \"Self\",\n        \"encounter_date\": \"2020-05-22\",\n        \"encounter_time\": \"20:59:35\",\n        \"provider_id\": \"2c6b08cf-0e34-37bf-9447-2823cc00073e\",\n        \"facility_id\": \"2a4518d8-7014-3404-b2e9-1c30c76b6a12\",\n        \"conditions\": [\n            \"Cough (finding)\",\n            \"Dyspnea (finding)\",\n            \"Wheezing (finding)\",\n            \"Fever (finding)\",\n            \"Loss of taste (finding)\",\n            \"Suspected COVID-19\",\n            \"COVID-19\"\n        ],\n        \"medications\": null,\n        \"temperature\": 39.2,\n        \"covid_test_result\": \"Detected (qualifier value)\",\n        \"procedures\": [\n            \"Face mask (physical object)\"\n        ],\n        \"age_range\": \"[11-17]\"\n    }\n]\n"
     ]
    }
   ],
   "source": [
    "import json \n",
    "\n",
    "row = parquet_df.take(2)\n",
    "\n",
    "row_dict = [r.asDict() for r in row]\n",
    "\n",
    "# print the json\n",
    "print(json.dumps(row_dict, indent=4))"
   ]
  },
  {
   "cell_type": "markdown",
   "metadata": {
    "application/vnd.databricks.v1+cell": {
     "cellMetadata": {},
     "inputWidgets": {},
     "nuid": "7286d580-e4d2-45b7-9d75-00a1ed3d9326",
     "showTitle": false,
     "tableResultSettingsMap": {},
     "title": ""
    }
   },
   "source": [
    "It looks like we can access co-morbidity information from the conditions column. Lets try to find people that have co-mobidity between hypertension, obesity, and pre-diabetes. "
   ]
  },
  {
   "cell_type": "code",
   "execution_count": 0,
   "metadata": {
    "application/vnd.databricks.v1+cell": {
     "cellMetadata": {
      "byteLimit": 2048000,
      "rowLimit": 10000
     },
     "inputWidgets": {},
     "nuid": "884cf7e2-df70-470b-9b6a-6cc18439a974",
     "showTitle": false,
     "tableResultSettingsMap": {},
     "title": ""
    }
   },
   "outputs": [
    {
     "output_type": "execute_result",
     "data": {
      "text/plain": [
       "302"
      ]
     },
     "execution_count": 43,
     "metadata": {},
     "output_type": "execute_result"
    }
   ],
   "source": [
    "from pyspark.sql.functions import col, array_contains, expr\n",
    "\n",
    "# Conditions to match\n",
    "conditions_to_match = [\"COVID-19\", \"Pneumonia (disorder)\"]\n",
    "\n",
    "# Dynamic version for variable-length conditions_to_match:\n",
    "\"\"\"\n",
    "# Create a filter expression to check if any of the conditions are in the conditions column\n",
    "# array contians is a PySpark function that checks if a specific value exists in an array column\n",
    "filter_expr = \" OR \".join([f\"array_contains(conditions, '{condition}')\" for condition in conditions_to_match])\n",
    "\n",
    "# Filter the DataFrame\n",
    "matching_conditions_df = parquet_df.filter(expr(filter_expr))\n",
    "\"\"\"\n",
    "\n",
    "matching_conditions_df = parquet_df.filter(\"array_contains(conditions, 'COVID-19') AND array_contains(conditions, 'Pneumonia (disorder)')\")\n",
    "\n",
    "# count number of results\n",
    "matching_conditions_df.count()"
   ]
  },
  {
   "cell_type": "markdown",
   "metadata": {
    "application/vnd.databricks.v1+cell": {
     "cellMetadata": {},
     "inputWidgets": {},
     "nuid": "3a395dbf-1e38-4724-b48c-3115d3e93d9e",
     "showTitle": false,
     "tableResultSettingsMap": {},
     "title": ""
    }
   },
   "source": [
    "Let's see the distribution of co-morbidity by age group"
   ]
  },
  {
   "cell_type": "markdown",
   "metadata": {
    "application/vnd.databricks.v1+cell": {
     "cellMetadata": {},
     "inputWidgets": {},
     "nuid": "a4f7e206-0c20-43ab-999a-a624b25ad295",
     "showTitle": false,
     "tableResultSettingsMap": {},
     "title": ""
    }
   },
   "source": [
    "First let's get the counts by each age group that has the co-morbidities"
   ]
  },
  {
   "cell_type": "code",
   "execution_count": 0,
   "metadata": {
    "application/vnd.databricks.v1+cell": {
     "cellMetadata": {
      "byteLimit": 2048000,
      "rowLimit": 10000
     },
     "inputWidgets": {},
     "nuid": "de32cdf1-ef14-44c4-9aeb-e7c70d35dab4",
     "showTitle": false,
     "tableResultSettingsMap": {},
     "title": ""
    }
   },
   "outputs": [
    {
     "output_type": "execute_result",
     "data": {
      "text/plain": [
       "[Row(age_range='[0-5]', count=1),\n",
       " Row(age_range='[11-17]', count=9),\n",
       " Row(age_range='[18-30]', count=35),\n",
       " Row(age_range='[31-50]', count=63),\n",
       " Row(age_range='[51-70]', count=119),\n",
       " Row(age_range='[6-10]', count=4),\n",
       " Row(age_range='[71+]', count=71)]"
      ]
     },
     "execution_count": 45,
     "metadata": {},
     "output_type": "execute_result"
    }
   ],
   "source": [
    "co_morbidity_age_group = matching_conditions_df.groupBy(\"age_range\").count() \\\n",
    "  .orderBy(\"age_range\")\n",
    "count_info = co_morbidity_age_group.collect()\n",
    "count_info"
   ]
  },
  {
   "cell_type": "markdown",
   "metadata": {
    "application/vnd.databricks.v1+cell": {
     "cellMetadata": {},
     "inputWidgets": {},
     "nuid": "5fc454cd-f075-4603-b2f4-88d13617af24",
     "showTitle": false,
     "tableResultSettingsMap": {},
     "title": ""
    }
   },
   "source": [
    "Now lets get the total counts to calculate the proportion of all patients in the age_range with the co-morbidity"
   ]
  },
  {
   "cell_type": "code",
   "execution_count": 0,
   "metadata": {
    "application/vnd.databricks.v1+cell": {
     "cellMetadata": {
      "byteLimit": 2048000,
      "rowLimit": 10000
     },
     "inputWidgets": {},
     "nuid": "bdd9b17c-32e3-4a98-9069-d9276719a783",
     "showTitle": false,
     "tableResultSettingsMap": {},
     "title": ""
    }
   },
   "outputs": [
    {
     "output_type": "execute_result",
     "data": {
      "text/plain": [
       "[Row(age_range='[0-5]', count=25),\n",
       " Row(age_range='[11-17]', count=126),\n",
       " Row(age_range='[18-30]', count=320),\n",
       " Row(age_range='[31-50]', count=436),\n",
       " Row(age_range='[51-70]', count=508),\n",
       " Row(age_range='[6-10]', count=95),\n",
       " Row(age_range='[71+]', count=489)]"
      ]
     },
     "execution_count": 46,
     "metadata": {},
     "output_type": "execute_result"
    }
   ],
   "source": [
    "total_counts_by_age_group = parquet_df.groupBy(\"age_range\").count() \\\n",
    "  .orderBy(\"age_range\")\n",
    "total_count_info = total_counts_by_age_group.collect()\n",
    "total_count_info"
   ]
  },
  {
   "cell_type": "code",
   "execution_count": 0,
   "metadata": {
    "application/vnd.databricks.v1+cell": {
     "cellMetadata": {
      "byteLimit": 2048000,
      "rowLimit": 10000
     },
     "inputWidgets": {},
     "nuid": "5bc6234a-8295-455a-a53c-24e2eef2cb15",
     "showTitle": false,
     "tableResultSettingsMap": {},
     "title": ""
    }
   },
   "outputs": [
    {
     "output_type": "display_data",
     "data": {
      "image/png": "[encoded data removed]",
      "text/plain": [
       "<Figure size 1000x600 with 1 Axes>"
      ]
     },
     "metadata": {},
     "output_type": "display_data"
    }
   ],
   "source": [
    "import matplotlib.pyplot as plt\n",
    "import numpy as np\n",
    "\n",
    "# Extracting age ranges and counts\n",
    "correct_order = ['[0-5]', '[6-10]', '[11-17]', '[18-30]', '[31-50]', '[51-70]', '[71+]']\n",
    "co_counts = np.array([row['count'] for row in count_info])\n",
    "total_counts = np.array([row['count'] for row in total_count_info])\n",
    "\n",
    "proportions = co_counts / total_counts\n",
    "\n",
    "plt.figure(figsize=(10, 6))\n",
    "plt.bar(correct_order, proportions, color='skyblue')\n",
    "\n",
    "plt.xlabel(\"Age Ranges\", fontsize=12)\n",
    "plt.ylabel(\"Proportion\", fontsize=12)\n",
    "plt.title(\"Co-mobidity Cases of COVID-19 and Pneumonia by Age Range\", fontsize=14)\n",
    "plt.xticks(fontsize=10)\n",
    "plt.yticks(fontsize=10)\n",
    "\n",
    "plt.tight_layout()\n",
    "plt.show()"
   ]
  },
  {
   "cell_type": "markdown",
   "metadata": {
    "application/vnd.databricks.v1+cell": {
     "cellMetadata": {},
     "inputWidgets": {},
     "nuid": "cb427a0c-3795-4f7d-bc85-9204c47898e1",
     "showTitle": false,
     "tableResultSettingsMap": {},
     "title": ""
    }
   },
   "source": [
    "Interestingly, there is a postive trend for the proportion of people with a co-morbidity of COVID-19 and Pneumonia until [31-50]. I would have expected the oldest age group [71+] and the youngest age group [0-5] to have the highest proportion because they usually have weaker immune systems."
   ]
  },
  {
   "cell_type": "markdown",
   "metadata": {
    "application/vnd.databricks.v1+cell": {
     "cellMetadata": {},
     "inputWidgets": {},
     "nuid": "09099e30-7482-4eaa-bd72-369ef0b442d2",
     "showTitle": false,
     "tableResultSettingsMap": {},
     "title": ""
    }
   },
   "source": [
    "Now let's see what the frequencies by themselves are"
   ]
  },
  {
   "cell_type": "code",
   "execution_count": 0,
   "metadata": {
    "application/vnd.databricks.v1+cell": {
     "cellMetadata": {
      "byteLimit": 2048000,
      "rowLimit": 10000
     },
     "inputWidgets": {},
     "nuid": "01aee096-ecd8-4a43-b97b-c261be2aae03",
     "showTitle": false,
     "tableResultSettingsMap": {},
     "title": ""
    }
   },
   "outputs": [
    {
     "output_type": "display_data",
     "data": {
      "image/png": "[encoded data removed]",
      "text/plain": [
       "<Figure size 1000x600 with 1 Axes>"
      ]
     },
     "metadata": {},
     "output_type": "display_data"
    }
   ],
   "source": [
    "import matplotlib.pyplot as plt\n",
    "import numpy as np\n",
    "\n",
    "# Extracting age ranges and counts\n",
    "correct_order = ['[0-5]', '[6-10]', '[11-17]', '[18-30]', '[31-50]', '[51-70]', '[71+]']\n",
    "co_counts = np.array([row['count'] for row in count_info])\n",
    "\n",
    "plt.figure(figsize=(10, 6))\n",
    "plt.bar(correct_order, co_counts, color='skyblue')\n",
    "\n",
    "plt.xlabel(\"Age Ranges\", fontsize=12)\n",
    "plt.ylabel(\"Counts\", fontsize=12)\n",
    "plt.title(\"Co-mobidity Cases of COVID-19 and Pneumonia by Age Range\", fontsize=14)\n",
    "plt.xticks(fontsize=10)\n",
    "plt.yticks(fontsize=10)\n",
    "\n",
    "plt.tight_layout()\n",
    "plt.show()"
   ]
  },
  {
   "cell_type": "markdown",
   "metadata": {
    "application/vnd.databricks.v1+cell": {
     "cellMetadata": {},
     "inputWidgets": {},
     "nuid": "54a66b10-1335-4ed8-af1a-39095bcd19e6",
     "showTitle": false,
     "tableResultSettingsMap": {},
     "title": ""
    }
   },
   "source": [
    "This may just reflect the population of the encounter notes instead of actual trends in co-morbidity"
   ]
  },
  {
   "cell_type": "markdown",
   "metadata": {
    "application/vnd.databricks.v1+cell": {
     "cellMetadata": {},
     "inputWidgets": {},
     "nuid": "0e3e45d2-6580-43f5-89b0-8dfdac97c6f9",
     "showTitle": false,
     "tableResultSettingsMap": {},
     "title": ""
    }
   },
   "source": [
    "## Independent group analysis: "
   ]
  },
  {
   "cell_type": "markdown",
   "metadata": {
    "application/vnd.databricks.v1+cell": {
     "cellMetadata": {},
     "inputWidgets": {},
     "nuid": "41928b11-a0f9-448d-9a54-b734ef829855",
     "showTitle": false,
     "tableResultSettingsMap": {},
     "title": ""
    }
   },
   "source": [
    "The independent analysis was done with \n",
    "Quang Loc Lam and James Phan"
   ]
  },
  {
   "cell_type": "markdown",
   "metadata": {
    "application/vnd.databricks.v1+cell": {
     "cellMetadata": {},
     "inputWidgets": {},
     "nuid": "2562ff46-4537-4aac-a28b-2c1c44e9a276",
     "showTitle": false,
     "tableResultSettingsMap": {},
     "title": ""
    }
   },
   "source": [
    "### Hypothesis"
   ]
  },
  {
   "cell_type": "markdown",
   "metadata": {
    "application/vnd.databricks.v1+cell": {
     "cellMetadata": {},
     "inputWidgets": {},
     "nuid": "7c3e64cf-e9dc-42f0-895f-4c650d2016ac",
     "showTitle": false,
     "tableResultSettingsMap": {},
     "title": ""
    }
   },
   "source": [
    "My hypothesis is that the people with the co-morbidity of COVID-19 and Pneumonia will have a more intensive procedure. That is, they will have a longer medical procedure than just people with just COVID and no Pneumonia"
   ]
  },
  {
   "cell_type": "markdown",
   "metadata": {
    "application/vnd.databricks.v1+cell": {
     "cellMetadata": {},
     "inputWidgets": {},
     "nuid": "09899cb7-4743-4167-a3ba-b837d101cd8e",
     "showTitle": false,
     "tableResultSettingsMap": {},
     "title": ""
    }
   },
   "source": [
    "### Value"
   ]
  },
  {
   "cell_type": "markdown",
   "metadata": {
    "application/vnd.databricks.v1+cell": {
     "cellMetadata": {},
     "inputWidgets": {},
     "nuid": "43022708-277b-4ce0-8219-26cdd2f58902",
     "showTitle": false,
     "tableResultSettingsMap": {},
     "title": ""
    }
   },
   "source": [
    "The results of this analysis can provide meaningful insight into the difference of care required to treat COVID patients with a co-morbidity vs. COVID patients without. If those with COVID-19 and Pneumonia require a more intensive operation, we need to be especially cautious of exposing at risk people to COVID"
   ]
  },
  {
   "cell_type": "markdown",
   "metadata": {
    "application/vnd.databricks.v1+cell": {
     "cellMetadata": {},
     "inputWidgets": {},
     "nuid": "e398f562-2129-4669-b424-f6b3dfbf0d68",
     "showTitle": false,
     "tableResultSettingsMap": {},
     "title": ""
    }
   },
   "source": [
    "### Methodology"
   ]
  },
  {
   "cell_type": "markdown",
   "metadata": {
    "application/vnd.databricks.v1+cell": {
     "cellMetadata": {},
     "inputWidgets": {},
     "nuid": "940dc8e4-9d1a-4784-8199-430e07c2e516",
     "showTitle": false,
     "tableResultSettingsMap": {},
     "title": ""
    }
   },
   "source": [
    "- I will create a new column `procedure_length` which represents the length of the `procedure` field in the original dataframe\n",
    "- I will create a filtered dataframe of those with COVID and pneumonia and those with only COVID.\n",
    "- I will collect the `procedure_length` lengths of both dataframes and create a plot to display the distribution of both dataframes"
   ]
  },
  {
   "cell_type": "markdown",
   "metadata": {
    "application/vnd.databricks.v1+cell": {
     "cellMetadata": {},
     "inputWidgets": {},
     "nuid": "8c8f4bde-716c-467b-83cf-6a356c0b1aa2",
     "showTitle": false,
     "tableResultSettingsMap": {},
     "title": ""
    }
   },
   "source": [
    "Create new column"
   ]
  },
  {
   "cell_type": "code",
   "execution_count": 0,
   "metadata": {
    "application/vnd.databricks.v1+cell": {
     "cellMetadata": {
      "byteLimit": 2048000,
      "rowLimit": 10000
     },
     "inputWidgets": {},
     "nuid": "0daebdd9-4548-406d-b743-d9fb600af82a",
     "showTitle": false,
     "tableResultSettingsMap": {},
     "title": ""
    }
   },
   "outputs": [
    {
     "output_type": "execute_result",
     "data": {
      "text/plain": [
       "[Row(procedures=['Face mask (physical object)', 'Plain chest X-ray (procedure)', 'Oxygen administration by mask (procedure)', 'Placing subject in prone position (procedure)', 'Oxygen administration by mask (procedure)', 'Placing subject in prone position (procedure)', 'Oxygen administration by mask (procedure)', 'Placing subject in prone position (procedure)', 'Oxygen administration by mask (procedure)', 'Placing subject in prone position (procedure)', 'Oxygen administration by mask (procedure)', 'Placing subject in prone position (procedure)', 'Oxygen administration by mask (procedure)', 'Placing subject in prone position (procedure)', 'Oxygen administration by mask (procedure)', 'Placing subject in prone position (procedure)'], procedure_length=16)]"
      ]
     },
     "execution_count": 55,
     "metadata": {},
     "output_type": "execute_result"
    }
   ],
   "source": [
    "from pyspark.sql.functions import size, col \n",
    "\n",
    "procedure_length = parquet_df.withColumn(\"procedure_length\", size(col(\"procedures\")))\n",
    "procedure_length.select(\"procedures\", \"procedure_length\").take(1)"
   ]
  },
  {
   "cell_type": "markdown",
   "metadata": {
    "application/vnd.databricks.v1+cell": {
     "cellMetadata": {},
     "inputWidgets": {},
     "nuid": "539400d8-8ce8-4c78-8b58-509f3d0cc742",
     "showTitle": false,
     "tableResultSettingsMap": {},
     "title": ""
    }
   },
   "source": [
    "Create filtered dataframes (Pneumonia and Covid) and (just Covid)"
   ]
  },
  {
   "cell_type": "code",
   "execution_count": 0,
   "metadata": {
    "application/vnd.databricks.v1+cell": {
     "cellMetadata": {
      "byteLimit": 2048000,
      "rowLimit": 10000
     },
     "inputWidgets": {},
     "nuid": "de4f2375-496e-4f45-ac4e-2cb88dc396cb",
     "showTitle": false,
     "tableResultSettingsMap": {},
     "title": ""
    }
   },
   "outputs": [
    {
     "output_type": "execute_result",
     "data": {
      "text/plain": [
       "302"
      ]
     },
     "execution_count": 58,
     "metadata": {},
     "output_type": "execute_result"
    }
   ],
   "source": [
    "both = procedure_length.filter(\"array_contains(conditions, 'COVID-19') AND array_contains(conditions, 'Pneumonia (disorder)')\")\n",
    "\n",
    "# count number of results\n",
    "both.count()"
   ]
  },
  {
   "cell_type": "code",
   "execution_count": 0,
   "metadata": {
    "application/vnd.databricks.v1+cell": {
     "cellMetadata": {
      "byteLimit": 2048000,
      "rowLimit": 10000
     },
     "inputWidgets": {},
     "nuid": "34259070-a7be-4c52-830d-113554869d90",
     "showTitle": false,
     "tableResultSettingsMap": {},
     "title": ""
    }
   },
   "outputs": [
    {
     "output_type": "execute_result",
     "data": {
      "text/plain": [
       "1133"
      ]
     },
     "execution_count": 59,
     "metadata": {},
     "output_type": "execute_result"
    }
   ],
   "source": [
    "only_covid = procedure_length.filter(\"array_contains(conditions, 'COVID-19') AND NOT array_contains(conditions, 'Pneumonia (disorder)')\")\n",
    "\n",
    "# count number of results\n",
    "only_covid.count()"
   ]
  },
  {
   "cell_type": "markdown",
   "metadata": {
    "application/vnd.databricks.v1+cell": {
     "cellMetadata": {},
     "inputWidgets": {},
     "nuid": "46fc85af-3779-4dd5-951f-efb0e93fada9",
     "showTitle": false,
     "tableResultSettingsMap": {},
     "title": ""
    }
   },
   "source": [
    "Collect procedure lengths from each dataframe"
   ]
  },
  {
   "cell_type": "code",
   "execution_count": 0,
   "metadata": {
    "application/vnd.databricks.v1+cell": {
     "cellMetadata": {
      "byteLimit": 2048000,
      "rowLimit": 10000
     },
     "inputWidgets": {},
     "nuid": "c3e70320-cf4e-4a51-bdb7-74ba65da782c",
     "showTitle": false,
     "tableResultSettingsMap": {},
     "title": ""
    }
   },
   "outputs": [
    {
     "output_type": "execute_result",
     "data": {
      "text/plain": [
       "[16, 12, 56, 42, 32, 25, 20, 14, 33, 26]"
      ]
     },
     "execution_count": 62,
     "metadata": {},
     "output_type": "execute_result"
    }
   ],
   "source": [
    "both_counts = both.select(\"procedure_length\").collect()\n",
    "both_counts_list = [row['procedure_length'] for row in both_counts]\n",
    "both_counts_list[0:10]"
   ]
  },
  {
   "cell_type": "code",
   "execution_count": 0,
   "metadata": {
    "application/vnd.databricks.v1+cell": {
     "cellMetadata": {
      "byteLimit": 2048000,
      "rowLimit": 10000
     },
     "inputWidgets": {},
     "nuid": "1f84e420-fee7-4a55-9a94-8d7373bfdc02",
     "showTitle": false,
     "tableResultSettingsMap": {},
     "title": ""
    }
   },
   "outputs": [
    {
     "output_type": "execute_result",
     "data": {
      "text/plain": [
       "[1, 1, 1, 1, 1, 1, 1, 1, 1, 2]"
      ]
     },
     "execution_count": 63,
     "metadata": {},
     "output_type": "execute_result"
    }
   ],
   "source": [
    "only_covid_counts = only_covid.select(\"procedure_length\").collect()\n",
    "only_covid_counts_list = [row['procedure_length'] for row in only_covid_counts]\n",
    "only_covid_counts_list[0:10]"
   ]
  },
  {
   "cell_type": "code",
   "execution_count": 0,
   "metadata": {
    "application/vnd.databricks.v1+cell": {
     "cellMetadata": {
      "byteLimit": 2048000,
      "rowLimit": 10000
     },
     "inputWidgets": {},
     "nuid": "f192794e-2b21-4d39-9b2e-78a74e138283",
     "showTitle": false,
     "tableResultSettingsMap": {},
     "title": ""
    }
   },
   "outputs": [
    {
     "output_type": "display_data",
     "data": {
      "image/png": "[encoded data removed]",
      "text/plain": [
       "<Figure size 640x480 with 1 Axes>"
      ]
     },
     "metadata": {},
     "output_type": "display_data"
    }
   ],
   "source": [
    "# Create the histogram with different colors\n",
    "plt.hist(both_counts_list, bins=10, alpha=0.3, color='b', label='Co-Morbidity Covid Patients')\n",
    "plt.hist(only_covid_counts_list, bins=10, alpha=0.3, color='r', label='Only Covid')\n",
    "\n",
    "# calculate means\n",
    "mean_both = np.mean(both_counts_list)\n",
    "mean_only_covid = np.mean(only_covid_counts_list)\n",
    "\n",
    "# Add vertical lines at the means\n",
    "plt.axvline(mean_both, color='b', linestyle='dashed', linewidth=2, label=f'Mean Co-Morbidity: {mean_both:.2f}')\n",
    "plt.axvline(mean_only_covid, color='r', linestyle='dashed', linewidth=2, label=f'Mean Only Covid: {mean_only_covid:.2f}')\n",
    "\n",
    "# Add labels and title\n",
    "plt.xlabel('Procedure Length')\n",
    "plt.ylabel('Frequency')\n",
    "plt.title('Distribution of Procedure Length for Co-Morbidity Covid Patients vs. Only Covid')\n",
    "plt.legend()\n",
    "\n",
    "# Show the plot\n",
    "plt.show()"
   ]
  },
  {
   "cell_type": "markdown",
   "metadata": {
    "application/vnd.databricks.v1+cell": {
     "cellMetadata": {},
     "inputWidgets": {},
     "nuid": "e0a748e6-cdc5-45c7-9003-3612006cc0b1",
     "showTitle": false,
     "tableResultSettingsMap": {},
     "title": ""
    }
   },
   "source": [
    "Based on the results, the COVID patients with co-morbidity do have more intensive procedures than those with jsut COVID. Therefore, Pneumonia seems to increase the severity of COVID-19."
   ]
  }
 ],
 "metadata": {
  "application/vnd.databricks.v1+notebook": {
   "computePreferences": null,
   "dashboards": [],
   "environmentMetadata": null,
   "language": "python",
   "notebookMetadata": {
    "mostRecentlyExecutedCommandWithImplicitDF": {
     "commandId": -1,
     "dataframes": [
      "_sqldf"
     ]
    },
    "pythonIndentUnit": 2
   },
   "notebookName": "Assignment_3_part_2_Urban_Halpern",
   "widgets": {}
  },
  "kernelspec": {
   "display_name": "Python 3 (ipykernel)",
   "language": "python",
   "name": "python3"
  },
  "language_info": {
   "codemirror_mode": {
    "name": "ipython",
    "version": 3
   },
   "file_extension": ".py",
   "mimetype": "text/x-python",
   "name": "python",
   "nbconvert_exporter": "python",
   "pygments_lexer": "ipython3",
   "version": "3.10.14"
  }
 },
 "nbformat": 4,
 "nbformat_minor": 0
}
